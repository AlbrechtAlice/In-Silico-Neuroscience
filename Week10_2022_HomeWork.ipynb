{
 "cells": [
  {
   "cell_type": "markdown",
   "id": "3c16e6f0",
   "metadata": {},
   "source": [
    "<center><font size = \"10\"> Week 10 - Network Stimulation<center>\n",
    "<center><font size = \"8\">Home Work <center>"
   ]
  },
  {
   "cell_type": "markdown",
   "id": "320ce429",
   "metadata": {},
   "source": [
    "<font size = \"3\">Please, write your group number and the names and surnames of the group members here\n",
    "<br>Group number:\n",
    "<br>Group member 1:\n",
    "<br>Group member 2:\n",
    "<br>Group member 3:\n",
    "    \n",
    "__IMPORTANT:__<font size = \"3\"> Exercises in <font color='red'>red</font> are mandatory assignments to be delivered by next Monday before 23:59.\n",
    "    \n",
    "<font size='3'>__NOTE:__ The code from the tutorials generates random connections between cells, if you want to compare results you have to keep the same connections (same axon section connected to same basal section) between the cells. The same happens with the location of the exponential synapses. \n",
    "Make sure to reset your connections if necessary. HINT: In this homework all of the exercises are connected, this can help you avoid repeating the implementations."
   ]
  },
  {
   "cell_type": "markdown",
   "id": "420d3dc6",
   "metadata": {},
   "source": [
    "## Optional: 5 neurons network: synchronous stimulation comparison\n",
    "\n",
    "<font size='3'>  Load the five morphology reconstructions assigned to your group in week 7, using the class `Cell` defined in the tutorials: \n",
    "- Connect the neurons with `weight = 1.0`, following the first tutorial. \n",
    "- Add exponential synapses to random section of the basal dendrite of each cell (synapse `weight = 1.0` and `tau = 2`). \n",
    "- Create and compare two inputs protocols: irregular and regular synchronous stimulation. \n",
    "- Run the simulation of 300 ms and show the voltage and spike plots. \n",
    "- How do the two protocols differ?"
   ]
  },
  {
   "cell_type": "code",
   "execution_count": null,
   "id": "e07838a0",
   "metadata": {},
   "outputs": [],
   "source": []
  },
  {
   "cell_type": "markdown",
   "id": "ef5ba25e",
   "metadata": {},
   "source": [
    "# <font color= 'red'>Ex 1:</font>  Regular synchronous stimulation. Half weight synaptic connections.\n",
    "\n",
    "<font size='3'>  Load the five morphology reconstructions assigned to your group in week 7, using the class `Cell` defined in the tutorials. Explore and compare three cases of the connectivity between neurons and exponential synapses placed on a random section of the basal dendrite of each neuron. \n",
    "<font size='3'>The 3 cases you should explore are: \n",
    "\n",
    "1. neurons connected with `weight = 1.0` and exponential synapses connected with `weight = 1.0` and `tau = 2 ms`\n",
    "2. neurons connected with `weight = 0.5` and exponential synapses connected with `weight = 1.0` and `tau = 2 ms`\n",
    "3. neurons connected with `weight = 1.0` and exponential synapses connected with `weight = 0.5` and `tau = 2 ms`\n",
    " \n",
    "    \n",
    "<font size='3'>Make sure that you are stimulating the same parts of basal dendrites in each simulation. Run a regular synchronous stimulation protocol for 300 ms and visualize the voltage and spike plots. Describe how do outcomes of these protocols differ. What is the effect of the changed weight on the activity of the network?    \n",
    "    \n",
    "<font size='3'><font color= 'red'>[1.5 pts]</font>"
   ]
  },
  {
   "cell_type": "code",
   "execution_count": 3,
   "id": "ec807389-5236-4be5-9211-4ce2e216ba7b",
   "metadata": {},
   "outputs": [
    {
     "name": "stdout",
     "output_type": "stream",
     "text": [
      "/home/In silico/week10\n",
      "Mod files: \"./vecevent.mod\"\n",
      "\n",
      "Creating x86_64 directory for .o files.\n",
      "\n",
      "COBJS=''\n",
      " -> \u001b[32mCompiling\u001b[0m mod_func.c\n",
      "x86_64-linux-gnu-gcc -O2   -I.   -I/usr/local/lib/python3.8/dist-packages/neuron/.data/include  -I/nrnwheel/openmpi/include -fPIC -c mod_func.c -o mod_func.o\n",
      " -> \u001b[32mNMODL\u001b[0m ../vecevent.mod\n",
      "(cd \"..\"; MODLUNIT=/usr/local/lib/python3.8/dist-packages/neuron/.data/share/nrn/lib/nrnunits.lib /usr/local/lib/python3.8/dist-packages/neuron/.data/bin/nocmodl vecevent.mod -o \"/home/In silico/week10/x86_64\")\n",
      "Translating vecevent.mod into /home/In silico/week10/x86_64/vecevent.c\n",
      "Notice: Use of POINTER is not thread safe.\n",
      "Notice: VERBATIM blocks are not thread safe\n",
      "Notice: ARTIFICIAL_CELL is a synonym for POINT_PROCESS which hints that it\n",
      "only affects and is affected by discrete events. As such it is not\n",
      "located in a section and is not associated with an integrator\n",
      " -> \u001b[32mCompiling\u001b[0m vecevent.c\n",
      "x86_64-linux-gnu-gcc -O2   -I\"..\" -I.   -I/usr/local/lib/python3.8/dist-packages/neuron/.data/include  -I/nrnwheel/openmpi/include -fPIC -c vecevent.c -o vecevent.o\n",
      " => \u001b[32mLINKING\u001b[0m shared library ./libnrnmech.so\n",
      "x86_64-linux-gnu-g++ -O2 -DVERSION_INFO='8.0.0' -std=c++11 -shared -fPIC  -I /usr/local/lib/python3.8/dist-packages/neuron/.data/include -o ./libnrnmech.so -Wl,-soname,libnrnmech.so \\\n",
      "  ./mod_func.o ./vecevent.o  -L/usr/local/lib/python3.8/dist-packages/neuron/.data/lib -lnrniv -Wl,-rpath,/usr/local/lib/python3.8/dist-packages/neuron/.data/lib   \n",
      "rm -f ./.libs/libnrnmech.so ; mkdir -p ./.libs ; cp ./libnrnmech.so ./.libs/libnrnmech.so\n",
      "Successfully created x86_64/special\n"
     ]
    }
   ],
   "source": [
    "!nrnivmodl"
   ]
  },
  {
   "cell_type": "code",
   "execution_count": 2,
   "id": "516cd3d8-77f7-4baf-8f1d-2ae1efb4bd2f",
   "metadata": {},
   "outputs": [
    {
     "name": "stderr",
     "output_type": "stream",
     "text": [
      "Warning: no DISPLAY environment variable.\n",
      "--No graphics will be displayed.\n"
     ]
    },
    {
     "data": {
      "text/plain": [
       "0.0"
      ]
     },
     "execution_count": 2,
     "metadata": {},
     "output_type": "execute_result"
    }
   ],
   "source": [
    "%matplotlib inline\n",
    "\n",
    "from neuron import h, gui\n",
    "import matplotlib.pyplot as plt\n",
    "import numpy as np\n",
    "\n",
    "# Load external files & initialize\n",
    "h.load_file(\"stdrun.hoc\")\n",
    "h.stdinit()"
   ]
  },
  {
   "cell_type": "code",
   "execution_count": 1,
   "id": "4b22f5e5",
   "metadata": {},
   "outputs": [],
   "source": [
    "class Cell:\n",
    "    def __init__(self, filename, name, cell_type):\n",
    "        self.name = name\n",
    "        self.type = cell_type\n",
    "        self.synapses = []\n",
    "        self.build_morphology(filename)\n",
    "        self.biophysics()\n",
    "\n",
    "    def build_morphology(self, filename):\n",
    "        h.load_file(\"import3d.hoc\")\n",
    "        h.load_file(\"stdlib.hoc\")\n",
    "        # morph_reader = h.Import3d_Neurolucida3()\n",
    "        morph_reader = h.Import3d_SWC_read()\n",
    "        morph_reader.input(filename)\n",
    "        i3d = h.Import3d_GUI(morph_reader, 0)\n",
    "        i3d.instantiate(\n",
    "            self\n",
    "        )  # Notice this change to be able to instantiate several cells\n",
    "\n",
    "    def biophysics(self):\n",
    "        for sec in h.allsec():\n",
    "            sec.Ra = 100  # Axial resistance in Ohm * cm\n",
    "            sec.cm = 1  # Membrane capacitance in micro Farads / cm^2\n",
    "            sec.insert(\"pas\")\n",
    "            for seg in sec:\n",
    "                seg.pas.g = 0.00003\n",
    "                seg.pas.e = -75\n",
    "\n",
    "        # Insert passive current in the dendrite\n",
    "        for sec in self.soma:\n",
    "            sec.insert(\"hh\")\n",
    "            for seg in sec:\n",
    "                seg.hh.gnabar = 0.12  # Sodium conductance in S/cm2\n",
    "                seg.hh.gkbar = 0.036  # Potassium conductance in S/cm2\n",
    "\n",
    "        if hasattr(self, \"apic\"):\n",
    "            for sec in self.apic:\n",
    "                sec.insert(\"hh\")\n",
    "                for seg in sec:\n",
    "                    seg.hh.gnabar = 0.12  # Sodium conductance in S/cm2\n",
    "                    seg.hh.gkbar = 0.036  # Potassium conductance in S/cm2\n",
    "\n",
    "        for sec in self.dend:\n",
    "            sec.insert(\"hh\")\n",
    "            for seg in sec:\n",
    "                seg.hh.gnabar = 0.12  # Sodium conductance in S/cm2\n",
    "                seg.hh.gkbar = 0.036  # Potassium conductance in S/cm2\n",
    "\n",
    "        for sec in self.axon:\n",
    "            sec.insert(\"hh\")\n",
    "            for seg in sec:\n",
    "                seg.hh.gnabar = 0.12  # Sodium conductance in S/cm2\n",
    "                seg.hh.gkbar = 0.036  # Potassium conductance in S/cm2"
   ]
  },
  {
   "cell_type": "code",
   "execution_count": 4,
   "id": "98592809-7c3d-4b28-ae26-43a5f08b2473",
   "metadata": {},
   "outputs": [],
   "source": [
    "Pyr1 = Cell(\"Pyr_01.swc\", \"Pyr1\", \"Pyr\")\n",
    "Pyr2 = Cell(\"Pyr_02.swc\", \"Pyr2\", \"Pyr\")\n",
    "Pyr3 = Cell(\"Pyr_03.swc\", \"Pyr3\", \"Pyr\")\n",
    "\n",
    "Int1 = Cell(\"Int_01.swc\", \"Int1\", \"Int\")\n",
    "Int2 = Cell(\"Int_02.swc\", \"Int2\", \"Int\")\n",
    "\n",
    "cells_Pyr = [Pyr1, Pyr2, Pyr3]\n",
    "cells_Int = [Int1, Pyr2]\n",
    "cells = cells_Pyr + cells_Int"
   ]
  },
  {
   "cell_type": "code",
   "execution_count": 5,
   "id": "7acdd3f9-a605-43bb-94b8-7b4757625f4a",
   "metadata": {},
   "outputs": [
    {
     "name": "stdout",
     "output_type": "stream",
     "text": [
      "Pyr1: 73 apical sections, 61 basal sections, 1 soma sections and 23 axon senctions\n",
      "Pyr2: 39 apical sections, 41 basal sections, 1 soma sections and 118 axon senctions\n",
      "Pyr3: 93 apical sections, 53 basal sections, 1 soma sections and 69 axon senctions\n",
      "Int1: 21 basal sections, 1 soma sections and 526 axon senctions\n",
      "Pyr2: 41 basal sections, 1 soma sections and 118 axon senctions\n"
     ]
    }
   ],
   "source": [
    "for c in cells_Pyr:\n",
    "    print(\n",
    "        \"%s: %d apical sections, %d basal sections, %d soma sections and %d axon senctions\"\n",
    "        % (c.name, len(c.apic), len(c.dend), len(c.soma), len(c.axon))\n",
    "    )\n",
    "for c in cells_Int:\n",
    "    print(\n",
    "        \"%s: %d basal sections, %d soma sections and %d axon senctions\"\n",
    "        % (c.name, len(c.dend), len(c.soma), len(c.axon))\n",
    "    )"
   ]
  },
  {
   "cell_type": "code",
   "execution_count": 6,
   "id": "048f814c-48e1-4e82-aa95-e4a061efef14",
   "metadata": {},
   "outputs": [],
   "source": [
    "# connect two cells with an exponential synapse at given locations\n",
    "# returns the netcon\n",
    "def connect(\n",
    "    source,\n",
    "    target,\n",
    "    weight=None,\n",
    "    delay=5,\n",
    "    source_sec=None,\n",
    "    source_neurite=\"axon\",\n",
    "    target_sec=None,\n",
    "    target_neurite=\"dend\",\n",
    "):\n",
    "    rng = np.random.default_rng()\n",
    "\n",
    "    if weight is None:\n",
    "        weight = rng.uniform()  # random weight\n",
    "\n",
    "    target_neurite_ = getattr(target, target_neurite)\n",
    "    if target_sec is None:\n",
    "        target_sec = rng.integers(0, len(target_neurite_))  # random dendritic section\n",
    "\n",
    "    source_neurite_ = getattr(source, source_neurite)\n",
    "    if source_sec is None:\n",
    "        source_sec = rng.integers(0, len(source_neurite_))  # random axonal section\n",
    "\n",
    "    target_syn = h.ExpSyn(target_neurite_[target_sec](0.5))\n",
    "    target.synapses.append(target_syn)  # store synapse\n",
    "\n",
    "    netcon = h.NetCon(\n",
    "        source_neurite_[source_sec](0.5)._ref_v,\n",
    "        target_syn,\n",
    "        sec=source_neurite_[source_sec],\n",
    "    )\n",
    "    netcon.weight[0] = weight\n",
    "\n",
    "    print(\n",
    "        f\"Connected cells {source.name} -> {target.name} with weight {weight} and delay {delay}, from {source_neurite}[{source_sec}] to {target_neurite}[{target_sec}]\"\n",
    "    )\n",
    "\n",
    "    return netcon"
   ]
  },
  {
   "cell_type": "markdown",
   "id": "76c2b47e",
   "metadata": {
    "tags": []
   },
   "source": [
    "# <font color= 'red'>Ex 2:</font>  Inhibitory neurons: effect on the network. \n",
    "    \n",
    "<font size='3'>\n",
    "    \n",
    "Load the five neurons following the previous exercise. Add exponential synapses (`weight = 1.0`, `tau = 2 ms`) to a random section of the basal dendrite of each cell. Create an irregular asynchronous stimulation and apply it to each exponential synapse. Run a simulation long enough to contain the last stimulation and plot the cells voltage response and the spikes.\n",
    "\n",
    "1. Connect neurons with the following weights:\n",
    "- `w(Pyr - Pyr) = 1`\n",
    "- `w(Pyr - Int) = 1`\n",
    "- `w(Int - Pyr) = -0.01`\n",
    "- `w(Int - Int) = -0.01`\n",
    "  \n",
    "Plot the results in two plots one showing the cells voltage response and other with the spike detection. What is the role of the interneurons in this circuit? Experiment with different `w(Int - Pyr)` weights and describe their effect. How does the networks activity compare to positive weights?\n",
    "    \n",
    "    \n",
    "2. Disconnect the inhibitory neurons and run the same protocol. Compare the results with the network from the first half of this exercise. Describe the role of the inhibitory neurons in small networks.\n",
    "\n",
    "    \n",
    "<font size='3'><font color= 'red'>[2 pts]</font>"
   ]
  },
  {
   "cell_type": "code",
   "execution_count": null,
   "id": "12b54e02",
   "metadata": {},
   "outputs": [],
   "source": []
  },
  {
   "cell_type": "markdown",
   "id": "4b9c8160",
   "metadata": {},
   "source": [
    "# <font color= 'red'>Ex 3:</font>  Poisson Stimulation \n",
    "\n",
    "<font size='3'>\n",
    "Load the five neurons following the previous exercises and connect them with the following weights: \n",
    "\n",
    "- `w(Pyr - Pyr) = 1`\n",
    "- `w(Pyr - Int) = 1`\n",
    "- `w(Int - Pyr) = -0.01`\n",
    "- `w(Int - Int) = -0.01`\n",
    "\n",
    "Add exponential synapses to random section of the basal dendrite of each cell (synapse `weight = 1.0` and `tau = 2 ms`). \n",
    "\n",
    "Design a Poisson stimulation spike train generator with use of the numpy function `np.random.poisson()`. Connect different poissonian spike trains to each of the exponential synapses. \n",
    "    \n",
    "Define the Poisson distribution. Is it a good representation of the spiking activity? The provided function has one parameter `lam`, please find potential values that could be used for `lam` (through experimentation or literature search).\n",
    "    \n",
    "Plot and compare the incoming spike trains and networks activity with the one you obtained in irregular asynchronous stimulation protocol. \n",
    "    \n",
    "<font size='3'><font color= 'red'>[2.5 pts]</font>"
   ]
  },
  {
   "cell_type": "code",
   "execution_count": null,
   "id": "ed53b657",
   "metadata": {},
   "outputs": [],
   "source": []
  }
 ],
 "metadata": {
  "kernelspec": {
   "display_name": "Python 3 (ipykernel)",
   "language": "python",
   "name": "python3"
  },
  "language_info": {
   "codemirror_mode": {
    "name": "ipython",
    "version": 3
   },
   "file_extension": ".py",
   "mimetype": "text/x-python",
   "name": "python",
   "nbconvert_exporter": "python",
   "pygments_lexer": "ipython3",
   "version": "3.8.10"
  }
 },
 "nbformat": 4,
 "nbformat_minor": 5
}
