{
 "cells": [
  {
   "cell_type": "markdown",
   "metadata": {},
   "source": [
    "<center><font size = \"10\"> Week 12 - Network Simulation III <center>\n",
    "<center><font size = \"8\">Home Work <center>"
   ]
  },
  {
   "cell_type": "markdown",
   "metadata": {},
   "source": [
    "<font size = \"3\">Please, write your group number and the names and surnames of the group members here\n",
    "<br>Group number: 3\n",
    "<br>Group member 1: Laura TESTA\n",
    "<br>Group member 2: Alice ALBRECHT\n",
    "<br>Group member 3: Clara LE DRAOULEC\n",
    "    \n",
    "__IMPORTANT:__<font size = \"3\"> Exercises in <font color='red'>red</font> are mandatory assignments to be delivered by next Monday before 23:59."
   ]
  },
  {
   "cell_type": "markdown",
   "metadata": {},
   "source": [
    "# <font color= 'red'>Ex 1:</font>  Simple network simulation\n",
    "\n",
    "<font size='3'> Using the modules `NetPyNe` modules `specs` and `sim`, create a simple network of soma neurons with 3 populations of 10 pyramidal cells each, using the standard compartmental Hodgkin-Huxley type cell (HH). Use the morphological, physiological, synaptic and stimulation parameters from tutorial 01 for all the populations. Connect one of the cell populations to the other two. For the first connection (population 1 to population 2) use the connection parameters (divergence, weight, delay, synMech) from tutorial 01. For the second connection (population 1 to population 3), modify and explore the connection parameters. \n",
    "    \n",
    "\n",
    "<font size='3'>Run a simulation of 500 ms, internal integration time steps of 0.025 ms and record steps time of 0.1 ms. Plot the raster plot of all the cells and the 2D network representation of the cell locations and connections. \n",
    "    \n",
    "    \n",
    "<font size='3'>What do you observe regarding the firing rates of your populations? What differences in the activity do you observe?\n",
    "\n",
    "<font size='3'><font color= 'red'>[2.5 pts]</font>\n"
   ]
  },
  {
   "cell_type": "markdown",
   "metadata": {
    "tags": []
   },
   "source": [
    "## Step 1: Import\n",
    "<font size='3'>Import the __sim__ and __specs__ modules from the __netpyne__ package, that provide functions to easily create and simulate networks."
   ]
  },
  {
   "cell_type": "code",
   "execution_count": null,
   "metadata": {
    "tags": []
   },
   "outputs": [],
   "source": [
    "from netpyne import specs, sim\n",
    "import numpy as np\n",
    "\n",
    "%matplotlib inline"
   ]
  },
  {
   "cell_type": "markdown",
   "metadata": {
    "tags": []
   },
   "source": [
    "## Step 2: Define network parameters"
   ]
  },
  {
   "cell_type": "code",
   "execution_count": null,
   "metadata": {
    "tags": []
   },
   "outputs": [],
   "source": [
    "# Network parameters -object of class NetParams to store the network parameters\n",
    "netParams = specs.NetParams()"
   ]
  },
  {
   "cell_type": "markdown",
   "metadata": {},
   "source": [
    "### 2.1 Define cell populations"
   ]
  },
  {
   "cell_type": "code",
   "execution_count": null,
   "metadata": {},
   "outputs": [],
   "source": [
    "# Population parameters\n",
    "netParams.popParams[\"cell1\"] = {\"cellType\": \"PYR\", \"numCells\": 10, \"cellModel\": \"HH\"}\n",
    "netParams.popParams[\"cell2\"] = {\"cellType\": \"PYR\", \"numCells\": 10, \"cellModel\": \"HH\"}\n",
    "netParams.popParams[\"cell3\"] = {\"cellType\": \"PYR\", \"numCells\": 10, \"cellModel\": \"HH\"}"
   ]
  },
  {
   "cell_type": "markdown",
   "metadata": {},
   "source": [
    "### 2.2 Define cell morphologies and physiology"
   ]
  },
  {
   "cell_type": "code",
   "execution_count": null,
   "metadata": {},
   "outputs": [],
   "source": [
    "## Cell property rules\n",
    "cellRule = {\"conds\": {\"cellType\": \"PYR\"}, \"secs\": {}}  # cell rule dict\n",
    "cellRule[\"secs\"][\"soma\"] = {\"geom\": {}, \"mechs\": {}}  # soma params dict\n",
    "cellRule[\"secs\"][\"soma\"][\"geom\"] = {\n",
    "    \"diam\": 18.8,\n",
    "    \"L\": 18.8,\n",
    "    \"Ra\": 123.0,\n",
    "}  # soma geometry\n",
    "cellRule[\"secs\"][\"soma\"][\"mechs\"][\"hh\"] = {\n",
    "    \"gnabar\": 0.12,\n",
    "    \"gkbar\": 0.036,\n",
    "    \"gl\": 0.003,\n",
    "    \"el\": -70,\n",
    "}  # soma hh mechanism\n",
    "netParams.cellParams[\"PYRrule\"] = cellRule  # add dict to list of cell params"
   ]
  },
  {
   "cell_type": "markdown",
   "metadata": {},
   "source": [
    "### 2.3 Define synaptic mechanism"
   ]
  },
  {
   "cell_type": "code",
   "execution_count": null,
   "metadata": {},
   "outputs": [],
   "source": [
    "## Synaptic mechanism parameters\n",
    "netParams.synMechParams[\"exc\"] = {\n",
    "    \"mod\": \"Exp2Syn\",\n",
    "    \"tau1\": 0.1,\n",
    "    \"tau2\": 5.0,\n",
    "    \"e\": 0,\n",
    "}  # excitatory synaptic mechanism\n",
    "\n",
    "netParams.synMechParams[\"inh\"] = {\n",
    "    \"mod\": \"Exp2Syn\",\n",
    "    \"tau1\": 0.6,\n",
    "    \"tau2\": 8.5,\n",
    "    \"e\": -75,\n",
    "}  # GABA synaptic mechanism"
   ]
  },
  {
   "cell_type": "markdown",
   "metadata": {},
   "source": [
    "### 2.4 Stimulation"
   ]
  },
  {
   "cell_type": "code",
   "execution_count": null,
   "metadata": {},
   "outputs": [],
   "source": [
    "# Stimulation parameters\n",
    "netParams.stimSourceParams[\"bkg\"] = {\"type\": \"NetStim\", \"rate\": 10, \"noise\": 0.5}\n",
    "netParams.stimTargetParams[\"bkg->PYR\"] = {\n",
    "    \"source\": \"bkg\",\n",
    "    \"conds\": {\"cellType\": \"PYR\"},\n",
    "    \"weight\": 0.01,\n",
    "    \"delay\": 5,\n",
    "    \"synMech\": \"exc\",\n",
    "}"
   ]
  },
  {
   "cell_type": "markdown",
   "metadata": {},
   "source": [
    "### 2.5 Connectivity"
   ]
  },
  {
   "cell_type": "code",
   "execution_count": null,
   "metadata": {},
   "outputs": [],
   "source": [
    "## Cell connectivity rules\n",
    "netParams.connParams[\"cell1->cell2\"] = {  #  cell1 -> cell2 label\n",
    "    \"preConds\": {\"pop\": \"cell1\"},  # conditions of presyn cells\n",
    "    \"postConds\": {\"pop\": \"cell2\"},  # conditions of postsyn cells\n",
    "    \"divergence\": 12,  # probability of connection\n",
    "    \"weight\": 0.01,  # synaptic weight\n",
    "    \"delay\": 5,  # transmission delay (ms)\n",
    "    \"synMech\": \"exc\",\n",
    "}  # synaptic mechanism\n",
    "\n",
    "#MODIFY THE PARAMETERS OF THE CONNECTION (Maybe using the papers) \n",
    "\n",
    "netParams.connParams[\"cell1->cell3\"] = {  #  cell1 -> cell3 label\n",
    "    \"preConds\": {\"pop\": \"cell1\"},  # conditions of presyn cells\n",
    "    \"postConds\": {\"pop\": \"cell3\"},  # conditions of postsyn cells\n",
    "    \"divergence\": 12,  # probability of connection\n",
    "    \"weight\": 0.01,  # synaptic weight\n",
    "    \"delay\": 5,  # transmission delay (ms)\n",
    "    \"synMech\": \"exc\",\n",
    "}  # synaptic mechanism"
   ]
  },
  {
   "cell_type": "markdown",
   "metadata": {},
   "source": [
    "## Step 3: Simulation parameters"
   ]
  },
  {
   "cell_type": "code",
   "execution_count": null,
   "metadata": {},
   "outputs": [],
   "source": [
    "# Simulation options\n",
    "simConfig = specs.SimConfig()\n",
    "# object of class SimConfig to store simulation configuration\n",
    "\n",
    "simConfig.duration = 500  # Duration of the simulation, in ms\n",
    "simConfig.dt = 0.025  # Internal integration timestep to use\n",
    "simConfig.verbose = False  # Show detailed messages\n",
    "simConfig.recordTraces = {\"V_soma\": {\"sec\": \"soma\", \"loc\": 0.5, \"var\": \"v\"}}  # Dict with traces to record\n",
    "simConfig.recordStep = 0.1  # Step size in ms to save data (eg. V traces, LFP, etc)\n",
    "simConfig.filename = \"model_output_ex01\"  # Set file output name\n",
    "simConfig.savePickle = False  # Save params, network and sim output to pickle file\n",
    "simConfig.saveJson = True"
   ]
  },
  {
   "cell_type": "code",
   "execution_count": null,
   "metadata": {},
   "outputs": [],
   "source": [
    "# Plots\n",
    "simConfig.analysis[\"plotRaster\"] = True  # Plot a raster\n",
    "simConfig.analysis[\"plotRaster\"] = {\"saveFig\": True}  # Plot a raster\n",
    "#simConfig.analysis[\"plotTraces\"] = {\"include\": [1, 2, 3]} # Plot recorded traces for this list of cells\n",
    "simConfig.analysis[\"plot2Dnet\"] = True # plot 2D visualization of cell positions and connections\n",
    "simConfig.analysis[\"plot2Dnet\"] = {\"saveFig\": True}"
   ]
  },
  {
   "cell_type": "markdown",
   "metadata": {},
   "source": [
    "## Step 4: Create and simulate the network"
   ]
  },
  {
   "cell_type": "code",
   "execution_count": null,
   "metadata": {},
   "outputs": [],
   "source": [
    "sim.createSimulateAnalyze(netParams=netParams, simConfig=simConfig)"
   ]
  },
  {
   "cell_type": "code",
   "execution_count": null,
   "metadata": {},
   "outputs": [],
   "source": [
    "import matplotlib.pyplot as plt\n",
    "import matplotlib.image as mpimg\n",
    "img = mpimg.imread('model_output_ex01_raster.png')\n",
    "imgplot = plt.imshow(img)\n",
    "plt.axis('off')\n",
    "plt.show()"
   ]
  },
  {
   "cell_type": "markdown",
   "metadata": {},
   "source": [
    "Note: The raster plot is not shown here but we sent you the resulting plot in annexe to this homework. "
   ]
  },
  {
   "cell_type": "markdown",
   "metadata": {},
   "source": [
    "<font color= 'red'> Alors, le raster plot il était pas visible alors j'ai fait le truc du savefig = true et du coup ça fait un petit plot tout mimi qu'il faudra pas qu'on oublie d'envoyer avec, et sinon pour les paramètres pour la connection entre population 1 et population 3 bah j'ai testé plein de trucs au pif, donc je pense il ne reste qu'à essayer les différents trucs et dire ce qui change à chaque fois dans un petit paté de blabla et all good :)  \n",
    "REFORMULATE"
   ]
  },
  {
   "cell_type": "markdown",
   "metadata": {},
   "source": [
    "- On both plots, we don't see changes if we increase the divergence (tried 30 and 80) but obvious changes in 2D plot if we decrease it (tried 3). [C'est quoi du coup les changement dans le 2D plot ?] On the Raster plot, there is a drecrease in the firing rate since there are less synapses if we decrease the divergence.\n",
    "- We don't see any change if we change the weigth on the 2D plot but changes on the raster plot, the firing frequency of the cells from population 3 is lower for a higher value of weight (rate decreased by a factor 2 if weigth increased by a factor 10)\n",
    "- We don't see any change on the 2D plot if we increase the delay from 5 ms to 50 ms and a very slight decrease of the firing rate on the Raster plot.\n",
    "- Finally, if we change the type of synapse from excitatory to inhibitory : on the 2D plot we see the same connections but some of them are now inhibitory, and on the raster plot we can see a very strong decrease of the firing rate of the population 3 cells (goes from 33,8 Hz to 4 Hz)\n"
   ]
  },
  {
   "cell_type": "markdown",
   "metadata": {},
   "source": [
    "<font color= 'red'>  Est ce qu'on ne ploterait pas les differents plots (s'ils sont different en fonction des parametres essayés) ?? Et envoyer tous les raster plots testés aussi du coup. On fait un petit zip et pusi voilà ! Ça fait les gens deter alors que bah c'est pas compliqué a récupérer haha"
   ]
  },
  {
   "cell_type": "markdown",
   "metadata": {},
   "source": [
    "# <font color= 'red'>Ex 2: </font>Mouse cortical network simulation\n",
    "\n",
    "<font size='3'>Following the line of tutorial 02, build a cortical-like network of dimensions: `x = 100 µm`, `y = 1210 µm` and `z = 100 µm`. Find the layer thickness for the mouse cortex in the paper __DeFelipe et al., 2002__ loaded in the moodle and assign these values to your model.\n",
    "\n",
    "<font size='3'>Your network should have around 400 neurons in total. Cortical layer 1 is composed only by inhibitory cells and in the rest of the layers we can find both excitatory(E) and inhibitory(I) neurons. Extract the ratios of neurons for each layer and proportions of E/I balance from the second paper __Billeh et al. 2020.__\n",
    "    \n",
    "<font size='3'>Use the same morphological, physiological, synaptic and stimulation parameters from tutorial 02 for the excitatory and inhibitory cell populations. Connect the excitatory cells so they target cells within L2/3 to L6. Connect the inhibitory cells only to excitatory cells with a connection probability that decays exponentially as a function of distance `0.3*exp(-dist_3D/probLengthConst)`.\n",
    "    \n",
    "<font size='3'>Run a simulation of 1000 ms, internal integration time steps of 0.05 ms and record steps time of 1 ms. Plot the 2D network representation of the cell locations and connections and the connectivity matrix. \n",
    "    \n",
    "<font size='3'>Based on what you learned in the lecture about the network regime map and in-silico experiments, what can you say about the activity of this cortical network? What type of activity does the network exhibit? What mechanisms have been associated with this activity, how could we attempt to change it?\n",
    "    \n",
    "<font size='3'><font color= 'red'>[3.5 pts]</font>"
   ]
  },
  {
   "cell_type": "code",
   "execution_count": null,
   "metadata": {},
   "outputs": [],
   "source": [
    "from netpyne import specs, sim\n",
    "\n",
    "%matplotlib inline"
   ]
  },
  {
   "cell_type": "markdown",
   "metadata": {},
   "source": [
    "## Step 2: Define network parameters - dimensions"
   ]
  },
  {
   "cell_type": "code",
   "execution_count": null,
   "metadata": {},
   "outputs": [],
   "source": [
    "# Network parameters\n",
    "# object of class NetParams to store the network parameters\n",
    "netParams = specs.NetParams()\n",
    "\n",
    "netParams.sizeX = 100  # x-dimension (horizontal length) size in um\n",
    "netParams.sizeY = 1210  # y-dimension (vertical height or cortical depth) size in um\n",
    "netParams.sizeZ = 100  # z-dimension (horizontal length) size in um\n",
    "netParams.propVelocity = 100.0  # propagation velocity (um/ms)\n",
    "netParams.probLengthConst = 150.0  # length constant for conn probability (um)"
   ]
  },
  {
   "cell_type": "markdown",
   "metadata": {},
   "source": [
    "From the first paper (Billeh et al. 2020), we extract the following thickness information for the mouse: \n",
    "\n",
    "- layer 1: 69µm of thickness, so located in 0-69 y axis\n",
    "- layer 2/3: 235µm of thickness, so located in 69-304 y axis\n",
    "- layer 4: 208µm of thickness, so located in 304-512 y axis\n",
    "- layer 5: 248µm of thickness, so located in 512-760 y axis\n",
    "- layer 6: 451µm of thickness, so located in 760-1211 y axis\n",
    "\n"
   ]
  },
  {
   "cell_type": "markdown",
   "metadata": {},
   "source": [
    "From the second paper (deFelipe 2002), we extract the ratio of inhibitory and excitatory cells per layer by using the total number of cells used in the paper (51978 neurons). Then we multiply it by the number of cells we want in our model (400 neurons) to obtain the number of excitatry and inhibitory cells we are going to put in our model:\n",
    "- layer 1: inhibitory : 999  $\\dfrac{400}{51978}$ ≃ 8 cells, excitatory : 0 cells \n",
    "\n",
    "- layer 2/3: inhibitory : 2211 $\\dfrac{400}{51978}$ ≃ 17 cells, excitatory : 12689 $\\dfrac{400}{51978}$ ≃ 98 cells\n",
    "\n",
    "- layer 4: inhibitory : 1786 $\\dfrac{400}{51978}$ ≃ 14 cells, excitatory : 10254 $\\dfrac{400}{51978}$ ≃ 79 cells\n",
    "\n",
    "- layer 5: inhibitory : 1285 $\\dfrac{400}{51978}$ ≃ 9 cells, excitatory : 7569 $\\dfrac{400}{51978}$ ≃  58 cells\n",
    "\n",
    "- layer 6: inhibitory : 2303 $\\dfrac{400}{51978}$ ≃ 18 cells, excitatory : 12882 $\\dfrac{400}{51978}$ ≃  99 cells\n",
    "\n",
    "By additioning the number of cells per layer we indeed obtain 400 neurons."
   ]
  },
  {
   "cell_type": "markdown",
   "metadata": {},
   "source": [
    "### 2.1 Define cell populations"
   ]
  },
  {
   "cell_type": "code",
   "execution_count": null,
   "metadata": {},
   "outputs": [],
   "source": [
    "## Population parameters\n",
    "# layer 1 (only inhibitory cells)\n",
    "netParams.popParams[\"I1\"] = {\n",
    "    \"cellType\": \"I\",\n",
    "    \"numCells\": 8,\n",
    "    \"yRange\": [0, 69],\n",
    "    \"cellModel\": \"HH\",\n",
    "}\n",
    "\n",
    "#layer 2/3\n",
    "netParams.popParams[\"E2\"] = {\n",
    "    \"cellType\": \"E\",\n",
    "    \"numCells\": 98,\n",
    "    \"yRange\": [69, 304],\n",
    "    \"cellModel\": \"HH\",\n",
    "}\n",
    "netParams.popParams[\"I2\"] = {\n",
    "    \"cellType\": \"I\",\n",
    "    \"numCells\": 17,\n",
    "    \"yRange\": [69, 304],\n",
    "    \"cellModel\": \"HH\",\n",
    "}\n",
    "\n",
    "#layer 4\n",
    "netParams.popParams[\"E4\"] = {\n",
    "    \"cellType\": \"E\",\n",
    "    \"numCells\": 79,\n",
    "    \"yRange\": [304, 512],\n",
    "    \"cellModel\": \"HH\",\n",
    "}\n",
    "\n",
    "netParams.popParams[\"I4\"] = {\n",
    "    \"cellType\": \"I\",\n",
    "    \"numCells\": 14,\n",
    "    \"yRange\": [304, 512],\n",
    "    \"cellModel\": \"HH\",\n",
    "}\n",
    "\n",
    "               \n",
    "#layer 5\n",
    "netParams.popParams[\"E5\"] = {\n",
    "    \"cellType\": \"E\",\n",
    "    \"numCells\": 58,\n",
    "    \"yRange\": [512, 760],\n",
    "    \"cellModel\": \"HH\",\n",
    "}\n",
    "netParams.popParams[\"I5\"] = {\n",
    "    \"cellType\": \"I\",\n",
    "    \"numCells\": 9,\n",
    "    \"yRange\": [512, 760],\n",
    "    \"cellModel\": \"HH\",\n",
    "}\n",
    "               \n",
    "#layer 6\n",
    "netParams.popParams[\"E6\"] = {\n",
    "    \"cellType\": \"E\",\n",
    "    \"numCells\": 99,\n",
    "    \"yRange\": [760, 1211],\n",
    "    \"cellModel\": \"HH\",\n",
    "}\n",
    "               \n",
    "netParams.popParams[\"I6\"] = {\n",
    "    \"cellType\": \"I\",\n",
    "    \"numCells\": 18,\n",
    "    \"yRange\": [760, 1211],\n",
    "    \"cellModel\": \"HH\",\n",
    "}"
   ]
  },
  {
   "cell_type": "markdown",
   "metadata": {},
   "source": [
    "### 2.2 Define cell morphologies and physiology"
   ]
  },
  {
   "cell_type": "code",
   "execution_count": null,
   "metadata": {},
   "outputs": [],
   "source": [
    "## Cell property rules\n",
    "cellRule = {\"conds\": {\"cellType\": \"E\"}, \"secs\": {}}  # cell rule dict\n",
    "cellRule[\"secs\"][\"soma\"] = {\"geom\": {}, \"mechs\": {}}  # soma params dict\n",
    "cellRule[\"secs\"][\"soma\"][\"geom\"] = {\"diam\": 15, \"L\": 14, \"Ra\": 120.0}  # soma geometry\n",
    "cellRule[\"secs\"][\"soma\"][\"mechs\"][\"hh\"] = {\n",
    "    \"gnabar\": 0.13,\n",
    "    \"gkbar\": 0.036,\n",
    "    \"gl\": 0.003,\n",
    "    \"el\": -70,\n",
    "}  # soma hh mechanism\n",
    "netParams.cellParams[\"Erule\"] = cellRule  # add dict to list of cell params\n",
    "\n",
    "cellRule = {\"conds\": {\"cellType\": \"I\"}, \"secs\": {}}  # cell rule dict\n",
    "cellRule[\"secs\"][\"soma\"] = {\"geom\": {}, \"mechs\": {}}  # soma params dict\n",
    "cellRule[\"secs\"][\"soma\"][\"geom\"] = {\n",
    "    \"diam\": 10.0,\n",
    "    \"L\": 9.0,\n",
    "    \"Ra\": 110.0,\n",
    "}  # soma geometry\n",
    "\n",
    "cellRule[\"secs\"][\"soma\"][\"mechs\"][\"hh\"] = {\n",
    "    \"gnabar\": 0.11,\n",
    "    \"gkbar\": 0.036,\n",
    "    \"gl\": 0.003,\n",
    "    \"el\": -70,\n",
    "}  # soma hh mechanism\n",
    "netParams.cellParams[\"Irule\"] = cellRule  # add dict to list of cell params"
   ]
  },
  {
   "cell_type": "markdown",
   "metadata": {},
   "source": [
    "### 2.3 Define synaptic mechanism"
   ]
  },
  {
   "cell_type": "code",
   "execution_count": null,
   "metadata": {},
   "outputs": [],
   "source": [
    "## Synaptic mechanism parameters\n",
    "netParams.synMechParams[\"exc\"] = {\n",
    "    \"mod\": \"Exp2Syn\",\n",
    "    \"tau1\": 0.8,\n",
    "    \"tau2\": 5.3,\n",
    "    \"e\": 0,\n",
    "}  # NMDA synaptic mechanism\n",
    "\n",
    "netParams.synMechParams[\"inh\"] = {\n",
    "    \"mod\": \"Exp2Syn\",\n",
    "    \"tau1\": 0.6,\n",
    "    \"tau2\": 8.5,\n",
    "    \"e\": -75,\n",
    "}  # GABA synaptic mechanism"
   ]
  },
  {
   "cell_type": "markdown",
   "metadata": {},
   "source": [
    "### 2.4 Stimulation"
   ]
  },
  {
   "cell_type": "code",
   "execution_count": null,
   "metadata": {},
   "outputs": [],
   "source": [
    "# Stimulation parameters\n",
    "netParams.stimSourceParams[\"bkg\"] = {\"type\": \"NetStim\", \"rate\": 20, \"noise\": 0.3}\n",
    "netParams.stimTargetParams[\"bkg->all\"] = {\n",
    "    \"source\": \"bkg\",\n",
    "    \"conds\": {\"cellType\": [\"E\", \"I\"]},\n",
    "    \"weight\": 0.01,\n",
    "    \"delay\": \"max(1, normal(5,2))\",\n",
    "    \"synMech\": \"exc\",\n",
    "}"
   ]
  },
  {
   "cell_type": "markdown",
   "metadata": {},
   "source": [
    "# Step 3.1. Cells not connected\n",
    "## Run simulation"
   ]
  },
  {
   "cell_type": "code",
   "execution_count": null,
   "metadata": {},
   "outputs": [],
   "source": [
    "# Simulation options\n",
    "simConfig = specs.SimConfig()\n",
    "\n",
    "simConfig.duration = 1 * 1e3  # Duration of the simulation, in ms\n",
    "simConfig.dt = 0.05  # Internal integration timestep to use\n",
    "simConfig.verbose = False  # Show detailed messages\n",
    "simConfig.recordTraces = {\n",
    "    \"V_soma\": {\"sec\": \"soma\", \"loc\": 0.5, \"var\": \"v\"}\n",
    "}  # Dict with traces to record\n",
    "\n",
    "simConfig.recordStep = 1  # Step size in ms to save data (e.g. V traces, LFP, etc)\n",
    "simConfig.filename = \"model_output_ex02\"  # Set file output name\n",
    "simConfig.savePickle = False  # Save params, network and sim output to pickle file\n",
    "\n",
    "simConfig.analysis[\"plotRaster\"] = {\"orderBy\": \"y\", \"orderInverse\": True,}  # Plot a raster\n",
    "simConfig.analysis[\"plotTraces\"] = {\"include\": [(\"E2\", 0), (\"E6\", 5)]}  # Plot recorded traces for this list of cells\n",
    "simConfig.analysis[\"plot2Dnet\"] = True  # plot 2D visualization of cell positions and connections\n",
    "simConfig.analysis[\"plotConn\"] = True  # plot connectivity matrix\n",
    "\n",
    "# Create network and run simulation\n",
    "sim.createSimulateAnalyze(netParams=netParams, simConfig=simConfig)"
   ]
  },
  {
   "cell_type": "markdown",
   "metadata": {},
   "source": [
    "# Step 3.2. Excitatory cells target all cells within layer 2/3 to 6\n",
    "\n"
   ]
  },
  {
   "cell_type": "code",
   "execution_count": null,
   "metadata": {
    "tags": []
   },
   "outputs": [],
   "source": [
    "# excitatory cells connections\n",
    "netParams.connParams[\"E->all\"] = {\n",
    "    \"preConds\": {\"cellType\": \"E\"},\n",
    "    \"postConds\": {\"y\": [69, 1211]},  # \n",
    "    \"probability\": 0.1,  # probability of connection\n",
    "    \"weight\": \"0.005*post_ynorm\",  # synaptic weight\n",
    "    \"delay\": \"dist_3D/propVelocity\",  # transmission delay (ms)\n",
    "    \"synMech\": \"exc\",\n",
    "}  # synaptic mechanism"
   ]
  },
  {
   "cell_type": "markdown",
   "metadata": {},
   "source": [
    "## Run simulation"
   ]
  },
  {
   "cell_type": "code",
   "execution_count": null,
   "metadata": {},
   "outputs": [],
   "source": [
    "# Simulation options\n",
    "simConfig = specs.SimConfig()\n",
    "\n",
    "simConfig.duration = 1 * 1e3  # Duration of the simulation, in ms\n",
    "simConfig.dt = 0.05  # Internal integration timestep to use\n",
    "simConfig.verbose = False  # Show detailed messages\n",
    "simConfig.recordTraces = {\n",
    "    \"V_soma\": {\"sec\": \"soma\", \"loc\": 0.5, \"var\": \"v\"}\n",
    "}  # Dict with traces to record\n",
    "simConfig.recordStep = 1  # Step size in ms to save data (e.g. V traces, LFP, etc)\n",
    "simConfig.filename = \"model_output_02\"  # Set file output name\n",
    "simConfig.savePickle = False  # Save params, network and sim output to pickle file\n",
    "\n",
    "simConfig.analysis[\"plotRaster\"] = {\"orderBy\": \"y\", \"orderInverse\": True,}  # Plot a raster\n",
    "simConfig.analysis[\"plotTraces\"] = {\"include\": [(\"E2\", 0), (\"E6\", 5)]}  # Plot recorded traces for this list of cells\n",
    "simConfig.analysis[\"plot2Dnet\"] = True  # plot 2D visualization of cell positions and connections\n",
    "simConfig.analysis[\"plotConn\"] = True  # plot connectivity matrix\n",
    "\n",
    "# Create network and run simulation\n",
    "sim.createSimulateAnalyze(netParams=netParams, simConfig=simConfig)"
   ]
  },
  {
   "cell_type": "markdown",
   "metadata": {},
   "source": [
    "# Step 3.3: Adding inhibitory connections which will project only onto excitatory cells\n",
    "\n",
    "<font size='3'>The probability of connection decay exponential as a function of distance with a given length constant "
   ]
  },
  {
   "cell_type": "code",
   "execution_count": null,
   "metadata": {},
   "outputs": [],
   "source": [
    "netParams.connParams[\"I->E\"] = {\n",
    "    \"preConds\": {\"cellType\": \"I\"},\n",
    "    \"postConds\": {\"pop\": [\"E2\", \"E4\", \"E5, E6\"]},  #  I -> E\n",
    "    \"probability\": \"0.3*exp(-dist_3D/probLengthConst)\",  # probability of connection\n",
    "    \"weight\": 0.001,  # synaptic weight\n",
    "    \"delay\": \"dist_3D/propVelocity\",  # transmission delay (ms)\n",
    "    \"synMech\": \"inh\",\n",
    "}  # synaptic mechanism\n"
   ]
  },
  {
   "cell_type": "markdown",
   "metadata": {},
   "source": [
    "## Run simulation"
   ]
  },
  {
   "cell_type": "code",
   "execution_count": null,
   "metadata": {},
   "outputs": [],
   "source": [
    "# Simulation options\n",
    "simConfig = specs.SimConfig()\n",
    "\n",
    "simConfig.duration = 1 * 1e3  # Duration of the simulation, in ms\n",
    "simConfig.dt = 0.05  # Internal integration timestep to use\n",
    "simConfig.verbose = False  # Show detailed messages\n",
    "simConfig.recordTraces = {\n",
    "    \"V_soma\": {\"sec\": \"soma\", \"loc\": 0.5, \"var\": \"v\"}\n",
    "}  # Dict with traces to record\n",
    "simConfig.recordStep = 1  # Step size in ms to save data (e.g. V traces, LFP, etc)\n",
    "simConfig.filename = \"model_output_ex02\"  # Set file output name\n",
    "simConfig.savePickle = False  # Save params, network and sim output to pickle file\n",
    "\n",
    "simConfig.analysis[\"plotRaster\"] = {\"orderBy\": \"y\", \"orderInverse\": True,}  # Plot a raster\n",
    "simConfig.analysis[\"plotTraces\"] = {\"include\": [(\"E2\", 0), (\"E6\", 5)]}  # Plot recorded traces for this list of cells\n",
    "simConfig.analysis[\"plot2Dnet\"] = True  # plot 2D visualization of cell positions and connections\n",
    "simConfig.analysis[\"plotConn\"] = True  # plot connectivity matrix\n",
    "\n",
    "# Create network and run simulation\n",
    "sim.createSimulateAnalyze(netParams=netParams, simConfig=simConfig)"
   ]
  },
  {
   "cell_type": "code",
   "execution_count": null,
   "metadata": {},
   "outputs": [],
   "source": [
    "import matplotlib.pyplot as plt\n",
    "import matplotlib.image as mpimg\n",
    "img = mpimg.imread('model_output_ex02_raster.png')\n",
    "imgplot = plt.imshow(img)\n",
    "plt.axis('off')\n",
    "plt.show()"
   ]
  },
  {
   "cell_type": "markdown",
   "metadata": {
    "tags": []
   },
   "source": [
    "# Step 3.4: Interpretation of the results<font size='3'> \n",
    "\n",
    "Based on what you learned in the lecture about the network regime map and in-silico experiments, what can you say about the activity of this cortical network? What type of activity does the network exhibit? What mechanisms have been associated with this activity, how could we attempt to change it?"
   ]
  },
  {
   "cell_type": "markdown",
   "metadata": {},
   "source": [
    "From the connection matrix, we know that the excitatory neurons of layer 6 are highly connected to the exctiatory neurons from the other layers. Indeed, they are the main post synpatic neurons in our network. Indeed, the cells from layer 6 will then send their information to the other cortical areas, it is thus expected that they receive a lot of inputs from the other layers of the network.\n",
    "\n"
   ]
  },
  {
   "cell_type": "markdown",
   "metadata": {},
   "source": [
    "# Optional Detailed cell morphology network\n",
    "\n",
    "<font size='3'>Build a network with the set of morphologies assigned to your group in week 7. For each morphology you have to create a `.py` file with the morphological and biophysical characteristics for each cell. For this purpose you can use biophysics from tutorial 3 and created there files `Inh01.py` and  `Pyr01.py`\n",
    "\n",
    "<font size='3'>Create 5 populations of cells with 5 cells each and the 3D compartmental Hodgkin-Huxley type cell (HH3D) taking care of the differences between pyramidal (E) and inhibitory cells (I). Connect the two inhibitory cell populations to the excitatory cell populations but not between them.\n",
    "    \n",
    "<font size='3'>Use the same synaptic and stimulation parameters used in tutorial 03. Add background stimulation to all of the neurons  with a firing rate of 100 Hz and noise level of 0.5 and connect it with a weight of 0.01 and a delay of 5 ms.  Run a simulation of 500 ms. Plot the raster plot, sample trace from each neuron populations, the 2D network representation of the cell locations and connections and the connectivity matrix.\n",
    "    \n",
    "<font size='3'>What can you observe? \n",
    "   "
   ]
  },
  {
   "cell_type": "code",
   "execution_count": null,
   "metadata": {},
   "outputs": [],
   "source": []
  }
 ],
 "metadata": {
  "kernelspec": {
   "display_name": "Python 3 (ipykernel)",
   "language": "python",
   "name": "python3"
  },
  "language_info": {
   "codemirror_mode": {
    "name": "ipython",
    "version": 3
   },
   "file_extension": ".py",
   "mimetype": "text/x-python",
   "name": "python",
   "nbconvert_exporter": "python",
   "pygments_lexer": "ipython3",
   "version": "3.8.10"
  }
 },
 "nbformat": 4,
 "nbformat_minor": 4
}
