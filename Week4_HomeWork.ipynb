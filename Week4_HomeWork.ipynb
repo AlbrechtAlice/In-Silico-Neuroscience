{
 "cells": [
  {
   "cell_type": "markdown",
   "metadata": {},
   "source": [
    "<center><font size = \"10\"> Week 4 - Cable Theory <center>\n",
    "<center><font size = \"8\">Home work<center>"
   ]
  },
  {
   "cell_type": "markdown",
   "metadata": {},
   "source": [
    "<font size = \"3\">Please, write your group number and the names and surnames of the group members here\n",
    "<br>Group number: 3\n",
    "<br>Group member1: Laura TESTA\n",
    "<br>Group member2: Alice ALBRECHT\n",
    "<br>Group member3: Clara LE DRAOULEC\n",
    "    \n",
    "__IMPORTANT:__<font size = \"3\"> Exercises in <font color='red'>red</font> are mandatory assignements to be delivered by next Monday before 23:59."
   ]
  },
  {
   "cell_type": "markdown",
   "metadata": {},
   "source": [
    "# Optional: Voltage variation in space\n",
    "\n",
    "<font size=\"3\">Create a simple morphology with only one section called soma, as it is done in tutorial 01 of this week 4, point 1. Perform a current clamp experiment in which the stimulation has the following parameters: delay 1 ms, amplitude 1 pA and duration 10 ms. Then do the following:\n",
    "    \n",
    "\n",
    "    - inject current at the center and at the end of the soma\n",
    "    - increase and decrease the number of segments per section\n",
    "    - manipulate the parameters of the soma (resistance Ra and diameter) and interpret the results\n"
   ]
  },
  {
   "cell_type": "code",
   "execution_count": 3,
   "metadata": {},
   "outputs": [
    {
     "name": "stdout",
     "output_type": "stream",
     "text": [
      "Defaulting to user installation because normal site-packages is not writeable\n",
      "Requirement already satisfied: hoc2swc in /home/.local/lib/python3.8/site-packages (0.1.2)\n",
      "\u001b[33mWARNING: You are using pip version 22.0.3; however, version 22.0.4 is available.\n",
      "You should consider upgrading via the '/usr/bin/python3 -m pip install --upgrade pip' command.\u001b[0m\u001b[33m\n",
      "\u001b[0mNote: you may need to restart the kernel to use updated packages.\n"
     ]
    }
   ],
   "source": [
    "pip install hoc2swc"
   ]
  },
  {
   "cell_type": "code",
   "execution_count": 4,
   "metadata": {},
   "outputs": [
    {
     "name": "stderr",
     "output_type": "stream",
     "text": [
      "Warning: no DISPLAY environment variable.\n",
      "--No graphics will be displayed.\n"
     ]
    }
   ],
   "source": [
    "# All the usefull packages\n",
    "%matplotlib inline\n",
    "\n",
    "from neuron import h\n",
    "import matplotlib.pyplot as plt\n",
    "import numpy as np\n",
    "import math as m\n",
    "import neurom as nm\n",
    "from neurom import view\n",
    "from hoc2swc import neuron2swc"
   ]
  },
  {
   "cell_type": "markdown",
   "metadata": {
    "tags": []
   },
   "source": [
    "# <font color= 'red'>Ex 1:</font> Action Potential Back Propagation. \n",
    "\n",
    "<font size='3'> Create a neuron with a soma, an axon with two sections and a dendrite with three branches, each of the branches with different diameters but with the same length. Add passive properties to every section and add active properties (hh) to the soma axon and to the dendrite, but not to the branches. You can use the parameters from tutorial 03. \n",
    "\n",
    "<font size='3'> Perform a current clamp experiment in which the soma is stimulated at the center and the dendritic branches and axon are recorded at their ends. Choose the best stimulation parameters to see the signal attenuation in the branches, visualize and interpret the results.\n",
    "    \n",
    "<font size='3'>Explain with your own words:\n",
    "    \n",
    "<font size='3'>- What are passive and active membrane properties?\n",
    "    \n",
    "<font size='3'>- What is going on with the voltage signal propagation from the soma to each of the branches? \n",
    "    \n",
    "<font size='3'>- What happens if the active properties of the dendrite are removed? <font color= 'red'> [1.5 pts]"
   ]
  },
  {
   "cell_type": "code",
   "execution_count": 15,
   "metadata": {},
   "outputs": [],
   "source": [
    "# Global containers for objects\n",
    "simulations_records = []  # stimulations\n",
    "voltage_records = []  # voltage recordings\n",
    "current_records = []  # current recordings\n",
    "\n",
    "\n",
    "def reset():\n",
    "    \"\"\"Convenience functions for setting up stimulation, recording and simulation\"\"\"\n",
    "    del simulations_records[:]\n",
    "    del voltage_records[:]\n",
    "    del current_records[:]\n",
    "\n",
    "\n",
    "def iclamp(location, delay=100, amplitude=0.1, duration=500):\n",
    "    \"\"\"\"Inject a current step with parameters at location\"\"\"\n",
    "    stim = h.IClamp(location)  # Place a stimulation electrode at location\n",
    "    stim.delay = delay  # stim delay (ms)\n",
    "    stim.amp = amplitude  # stim amplitude (pA)\n",
    "    stim.dur = duration  # stim ducurrent_recordsration (ms)\n",
    "    simulations_records.append({\"stim\": stim, \"loc\": str(location)})\n",
    "\n",
    "\n",
    "def record_voltage(location):\n",
    "    \"\"\"Setup recording of voltage at location\"\"\"\n",
    "    vec = h.Vector()\n",
    "    vec.record(location._ref_v)  # record voltage at location\n",
    "    voltage_records.append({\"vec\": vec, \"loc\": str(location)})\n",
    "\n",
    "\n",
    "def record_current(stimulation_dict):\n",
    "    \"\"\"Setup recording of stimulation current\"\"\"\n",
    "    vec = h.Vector()\n",
    "    vec.record(stimulation_dict[\"stim\"]._ref_i)  # record stimulation current\n",
    "    current_records.append({\"vec\": vec, \"loc\": stimulation_dict[\"loc\"]})\n",
    "\n",
    "\n",
    "def init_run(v_i, t_stop):\n",
    "    \"\"\"Initialize and run a simulation\"\"\"\n",
    "    # Record time\n",
    "    rec_t = h.Vector()\n",
    "    rec_t.record(h._ref_t)\n",
    "    # Record current for all stimuli\n",
    "    for stimulation_dict in simulations_records:\n",
    "        record_current(stimulation_dict)\n",
    "    # Setup simulation and run\n",
    "    h.load_file(\"stdrun.hoc\")\n",
    "    h.finitialize(v_i)  # initial voltage\n",
    "    h.continuerun(t_stop)  # final time\n",
    "    return rec_t\n",
    "\n",
    "\n",
    "def tvi_plots(\n",
    "    t, voltage_records=[], current_records=[], vmax=40, imax=0.5, legendv=True, PlotI=True, xlim=(0,700)\n",
    "):\n",
    "    \"\"\"Plot current and voltage for all stims and recordings\"\"\"\n",
    "    \n",
    "    # plot the current trace \n",
    "    if PlotI==True:\n",
    "        plt.figure()\n",
    "        plt.title(\"currents\")\n",
    "        #plt.ylim((-0.01, imax))\n",
    "        plt.xlabel(\"t (ms)\")\n",
    "        plt.ylabel(\"I (pA)\")\n",
    "        for idict in current_records:\n",
    "            plt.plot(t, idict[\"vec\"], label=idict[\"loc\"])\n",
    "        if legendv:\n",
    "            plt.legend(loc=1)\n",
    "\n",
    "    plt.figure()\n",
    "    plt.title(\"voltages\")\n",
    "    plt.ylim((-80, vmax))\n",
    "    plt.xlim(xlim)\n",
    "    plt.ylabel(\"V (mV)\")\n",
    "    plt.xlabel(\"t (ms)\")\n",
    "    for vdict in voltage_records:\n",
    "        plt.plot(t, vdict[\"vec\"], label=vdict[\"loc\"])\n",
    "    plt.legend(loc=1)\n",
    "\n",
    "\n",
    "def plot_morphology(fname=\"cell_01\"):\n",
    "    fname = \"{}.swc\".format(fname)\n",
    "    h.define_shape()\n",
    "    h.topology()\n",
    "    neuron2swc(fname, swap_yz=False)\n",
    "    neuron1 = nm.load_morphology(fname)\n",
    "    view.plot_morph(neuron1)"
   ]
  },
  {
   "cell_type": "code",
   "execution_count": 4,
   "metadata": {},
   "outputs": [
    {
     "name": "stdout",
     "output_type": "stream",
     "text": [
      "\n",
      "|-|       soma(0-1)\n",
      "   `----|       dend(0-1)\n",
      "         `|       branch_1(0-1)\n",
      "         `|       branch_2(0-1)\n",
      "         `|       branch_3(0-1)\n",
      " `----|       axon_1(0-1)\n",
      "       `----|       axon_2(0-1)\n",
      "\n",
      "Wrote cell 0 to cell_01.swc\n"
     ]
    },
    {
     "name": "stderr",
     "output_type": "stream",
     "text": [
      "Warning: with a 3 points soma, neurites must be connected to the first soma point:\n",
      "\u001b[1;33mcell_01.swc:18:warning\u001b[0m\n",
      "\n"
     ]
    },
    {
     "data": {
      "image/png": "[encoded data removed]",
      "text/plain": [
       "<Figure size 432x288 with 1 Axes>"
      ]
     },
     "metadata": {
      "needs_background": "light"
     },
     "output_type": "display_data"
    }
   ],
   "source": [
    "### SOMA \n",
    "# Create soma - NO INFO\n",
    "soma = h.Section(name=\"soma\")\n",
    "soma.L = 20  # length (µm)\n",
    "soma.diam = 20  # diameter (µm)\n",
    "soma.Ra = 123.0  # axial resistivity (Ω*cm)\n",
    "soma.cm = 1  # capacitance (µF/cm^2)\n",
    "\n",
    "# Insert passive properties - NO INFO\n",
    "soma.insert(\"pas\")\n",
    "for seg in soma:\n",
    "    seg.pas.g = 0.0003  # Conductance of the leak channels (in S/cm2)\n",
    "    seg.pas.e = (-70)   # Leak reversal potential, it influences the steady state membrane potential\n",
    "\n",
    "# Insert active properties - GET VALUES FROM TUTO 3\n",
    "soma.insert(\"hh\")\n",
    "for seg in soma:\n",
    "    seg.hh.gkbar = 0.1   # Maximal conductance of the potassium channels\n",
    "    seg.hh.gnabar = 0.4  # Maximal conductance of the sodium channels\n",
    "\n",
    "    \n",
    "### AXON\n",
    "# Create Axon (blue in plot) - ONLY INFO 2 SECTIONS\n",
    "axon1 = h.Section(name=\"axon_1\")\n",
    "axon2 = h.Section(name=\"axon_2\")\n",
    "\n",
    "axon1.diam = 3\n",
    "axon1.L =100  # length (µm)\n",
    "axon1.nseg = 5  # diameter (µm)\n",
    "axon1.Ra = 123.0  # axial resistivity (Ω*cm)\n",
    "axon1.cm = 1  # capacitance (µF/cm^2)\n",
    "\n",
    "axon2.diam = 3\n",
    "axon2.L = 100  # length (µm)\n",
    "axon2.nseg = 5  # diameter (µm)\n",
    "axon2.Ra = 123.0  # axial resistivity (Ω*cm)\n",
    "axon2.cm = 1  # capacitance (µF/cm^2)\n",
    "\n",
    "# Topology\n",
    "axon1.connect(soma(0))\n",
    "axon2.connect(axon1(1))\n",
    "\n",
    "# Insert passive properties - NO INFO\n",
    "axon1.insert(\"pas\")\n",
    "for seg in axon1:\n",
    "    seg.pas.g = 0.0003  # Conductance of the leak channels (in S/cm2)\n",
    "    seg.pas.e = (-70)   # Leak reversal potential, it influences the steady state membrane potential\n",
    "\n",
    "axon2.insert(\"pas\")\n",
    "for seg in axon2:\n",
    "    seg.pas.g = 0.0003  # Conductance of the leak channels (in S/cm2)\n",
    "    seg.pas.e = (-70)   # Leak reversal potential, it influences the steady state membrane potential\n",
    "\n",
    "# Insert active properties - GET VALUES FROM TUTO 3\n",
    "axon1.insert(\"hh\")\n",
    "for seg in axon1:\n",
    "    seg.hh.gkbar = 0.1   # Maximal conductance of the potassium channels\n",
    "    seg.hh.gnabar = 0.4  # Maximal conductance of the sodium channels\n",
    "\n",
    "axon2.insert(\"hh\")\n",
    "for seg in axon2:\n",
    "    seg.hh.gkbar = 0.1   # Maximal conductance of the potassium channels\n",
    "    seg.hh.gnabar = 0.4  # Maximal conductance of the sodium channels\n",
    "\n",
    "\n",
    "### DENDRITE\n",
    "# Creat Dendrite (red in plot) - NO INFO \n",
    "dend = h.Section(name=\"dend\")\n",
    "dend.L = 200  # length (µm)\n",
    "dend.diam = 1  # diameter (µm)\n",
    "dend.nseg = 5  # number of segments\n",
    "dend.Ra = 123.0  # axial resistivity (Ω*cm)\n",
    "dend.cm = 1  # capacitance (µF/cm^2)\n",
    "\n",
    "# Topology\n",
    "dend.connect(soma(1))\n",
    "\n",
    "# Passive properties in dendrite and axon\n",
    "dend.insert(\"pas\")\n",
    "for seg in dend:\n",
    "    seg.pas.g = 0.0003  # Conductance of the leak channels (in S/cm2)\n",
    "    seg.pas.e = (-70)   # Leak reversal potential, it influences the steady state membrane potential\n",
    "\n",
    "# Insert active properties - GET VALUES FROM TUTO 3\n",
    "dend.insert(\"hh\")\n",
    "for seg in dend:\n",
    "    seg.hh.gkbar = 0.1   # Maximal conductance of the potassium channels\n",
    "    seg.hh.gnabar = 0.4  # Maximal conductance of the sodium channels\n",
    "\n",
    "### DENDRITIC BRANCHES\n",
    "# Create Dendritic Branches\n",
    "branch_1 = h.Section(name=\"branch_1\")\n",
    "branch_2 = h.Section(name=\"branch_2\")\n",
    "branch_3 = h.Section(name=\"branch_3\")\n",
    "\n",
    "# Branch geometry all the same length but diffrent parameters\n",
    "branch_1.L = 100\n",
    "branch_1.diam = 3\n",
    "branch_2.L = 100\n",
    "branch_2.diam = 6\n",
    "branch_3.L = 100\n",
    "branch_3.diam = 9\n",
    "\n",
    "# Topology\n",
    "branch_1.connect(dend(1))\n",
    "branch_2.connect(dend(1))\n",
    "branch_3.connect(dend(1))\n",
    "\n",
    "# Passive properties in dendrite branches\n",
    "branchlst = [branch_1, branch_2, branch_3]\n",
    "for branch in branchlst:\n",
    "    branch.Ra = 130.0  # axial resistivity (Ω*cm)\n",
    "    branch.cm = 1  # capacitance (µF/cm^2)\n",
    "    branch.insert(\"pas\")\n",
    "    for seg in branch:\n",
    "        seg.pas.g = 0.0003  # Conductance of the leak channels (in S/cm2)\n",
    "        seg.pas.e = (-70)   # Leak reversal potential, it influences the steady state membrane potential\n",
    "\n",
    "plot_morphology(\"cell_01\")"
   ]
  },
  {
   "cell_type": "code",
   "execution_count": 5,
   "metadata": {},
   "outputs": [
    {
     "data": {
      "image/png": "[encoded data removed]",
      "text/plain": [
       "<Figure size 432x288 with 1 Axes>"
      ]
     },
     "metadata": {
      "needs_background": "light"
     },
     "output_type": "display_data"
    },
    {
     "data": {
      "image/png": "[encoded data removed]",
      "text/plain": [
       "<Figure size 432x288 with 1 Axes>"
      ]
     },
     "metadata": {
      "needs_background": "light"
     },
     "output_type": "display_data"
    }
   ],
   "source": [
    "reset()\n",
    "\n",
    "# Setup stimulations and recordings\n",
    "# Put current on the middle of the soma\n",
    "iclamp(soma(0.5), amplitude=0.4, delay=100, duration=100) #test different values\n",
    "\n",
    "# Record voltage at the end of the axon and dendritic branches\n",
    "record_voltage(axon1(1))\n",
    "record_voltage(axon2(1))\n",
    "for idx, branch in enumerate(branchlst):\n",
    "    record_voltage(branch(1))\n",
    "\n",
    "# Simulate and plot\n",
    "v_init = -70\n",
    "t_stop = 700\n",
    "tvi_plots(init_run(v_init, t_stop), voltage_records, current_records, vmax=60)"
   ]
  },
  {
   "cell_type": "markdown",
   "metadata": {},
   "source": [
    "<font size='3'> - What are passive and active membrane properties?\n",
    "    \n",
    "Passive and active membrane properties are the electrical properties of membranes. Neurons have three passive electrical properties that are important for electrical signaling: resting membrane resistance, membrane capacitance, and intracellular axial resistance along axons and dendrites. Passive properties do not involve voltage-gated or synaptically activated ion channels. They refer to the flow of ions due to the difference in ionic concentration between the outside and inside of the cell only via leakage channels, which have a fixed conductance. In contrast, the active properties are due to the active flow of electrons through (mainly) Na+ and K+ channels. These properties are dictated by the dynamics of these channels and are voltage-dependent and responsible for the shape of the AP curve."
   ]
  },
  {
   "cell_type": "markdown",
   "metadata": {},
   "source": [
    "<font size='3'>-  What is going on with the voltage signal propagation from the soma to each of the branches? \n",
    "\n",
    "We can see that excitation of the axon close to the soma leads to the firing of multiples action potential. If we plot on the same graph both the voltage recording of both the soma and the branches we can clearly see the attenuation of the potential between the soma and the branches. We see the same shape of activity with a small pick at each AP but with a much lower amplitude. \n",
    "   "
   ]
  },
  {
   "cell_type": "markdown",
   "metadata": {},
   "source": [
    "<font size='3'>- What happens if the active properties of the dendrite are removed?\n",
    "\n",
    "In this case"
   ]
  },
  {
   "cell_type": "markdown",
   "metadata": {},
   "source": [
    "# <font color= 'red'>Ex 2:</font> Dendritic input signal sumation in the soma\n",
    "\n",
    "<font size=\"3\">Load the morphology file for your group, and instantiate it as it is done in tutorial 03. Perform a current clamp experiment that stimulates all the dendrites (basal and apical) at their midpoints. Play around with the different stimulation parameters: delay, amplitude and duration.\n",
    "\n",
    "<font size=\"3\">Plot results of different stimulation protocols that help you explain: \n",
    "    \n",
    "    - What is dendritic signal integration? And, in your opinion, what is the importance of this in biology? \n",
    "    - What happens if you stimulate only apical dendrites? What is the cause of this effect?\n",
    "    \n",
    "<font size=\"3\"> __Hint:__ use the information on the articles that you can find in the home work folder in the moodle for this week 4. <font color= 'red'> [2.5 pts]"
   ]
  },
  {
   "cell_type": "code",
   "execution_count": 6,
   "metadata": {},
   "outputs": [],
   "source": [
    "class NEURON:\n",
    "    def __init__(self):\n",
    "        self.build_morphology()\n",
    "        self.define_biophysics()\n",
    "\n",
    "    def build_morphology(self):\n",
    "        \"\"\"\n",
    "        Loads a 3D morphology of the neuron\n",
    "        \"\"\"\n",
    "        # Load hoc routines to import 3D morphologies\n",
    "        h.load_file(\"stdlib.hoc\")\n",
    "        h.load_file(\"import3d.hoc\")\n",
    "        # cell = h.Import3d_SWC_read() # We have a .swc morphology file\n",
    "        cell = h.Import3d_Neurolucida3()\n",
    "\n",
    "        # Read the file and creates automatically section.connect(parent) statements\n",
    "        cell.input(\"Group3_morphology.asc\")\n",
    "\n",
    "        # Instantiate morphology for simulation and\n",
    "        # execute the connect statements and loads the cell into h scope\n",
    "        self.importedcell = h.Import3d_GUI(cell, 0)\n",
    "        self.importedcell.instantiate(None)\n",
    "\n",
    "        # Create python lists from the morphology with the different sections: soma, dend, apic and axon\n",
    "        self.somatic = []\n",
    "        self.dendritic = []\n",
    "        self.apical = []\n",
    "        self.axonal = []\n",
    "        self.all = []\n",
    "        for sec in h.allsec():\n",
    "            if \"soma\" in sec.name():\n",
    "                self.somatic.append(sec)\n",
    "            if \"dend\" in sec.name():\n",
    "                self.dendritic.append(sec)\n",
    "            if \"apic\" in sec.name():\n",
    "                self.apical.append(sec)\n",
    "            if \"axon\" in sec.name():\n",
    "                self.axonal.append(sec)\n",
    "\n",
    "    def define_biophysics(self):\n",
    "        \"\"\"\n",
    "        Distributes passive mechanisms and hh active prop on the soma and dendrites\n",
    "        \"\"\"\n",
    "        # Define passive properties for all sections\n",
    "        for sec in h.allsec():\n",
    "            sec.insert(\"pas\")\n",
    "            sec.nseg = 1\n",
    "            for seg in sec:\n",
    "                seg.pas.g = 0.0003  # Conductance of the leak channels (in S/cm2)\n",
    "                seg.pas.e = -70\n",
    "\n",
    "        # Define active properties for soma, dendrite, apical dendrite and axon\n",
    "        for sec in self.somatic:\n",
    "            # insert hh\n",
    "            sec.insert(\"hh\")\n",
    "            sec.Ra = 1\n",
    "            sec.nseg = 1\n",
    "            for seg in sec:\n",
    "                seg.hh.gkbar = 0.1  # Maximal conductance of the potassium channels\n",
    "                seg.hh.gnabar = 0.4  # Maximal conductance of the sodium channels\n",
    "\n",
    "        for sec in self.dendritic:\n",
    "            # insert hh\n",
    "            sec.insert(\"hh\")\n",
    "            sec.Ra = 300\n",
    "            sec.nseg = 1\n",
    "            for seg in sec:\n",
    "                seg.hh.gkbar = 0.1  # Maximal conductance of the potassium channels\n",
    "                seg.hh.gnabar = 0.4  # Maximal conductance of the sodium channels\n",
    "\n",
    "        for sec in self.apical:\n",
    "            # insert hh\n",
    "            sec.insert(\"hh\")\n",
    "            sec.Ra = 400\n",
    "            sec.nseg = 1\n",
    "            for seg in sec:\n",
    "                seg.hh.gkbar = 0.1  # Maximal conductance of the potassium channels\n",
    "                seg.hh.gnabar = 0.4  # Maximal conductance of the sodium channels\n",
    "\n",
    "        for sec in self.axonal:\n",
    "            # insert hh\n",
    "            sec.insert(\"hh\")\n",
    "            sec.Ra = 100\n",
    "            sec.nseg = 1\n",
    "            for seg in sec:\n",
    "                seg.hh.gkbar = 0.1  # Maximal conductance of the potassium channels\n",
    "                seg.hh.gnabar = 0.4  # Maximal conductance of the sodium channels"
   ]
  },
  {
   "cell_type": "code",
   "execution_count": 7,
   "metadata": {},
   "outputs": [
    {
     "name": "stdout",
     "output_type": "stream",
     "text": [
      "\n",
      "19847 lines read\n"
     ]
    }
   ],
   "source": [
    "Cell = NEURON()"
   ]
  },
  {
   "cell_type": "markdown",
   "metadata": {
    "tags": []
   },
   "source": [
    "# <font color= 'red'>Ex 3:</font> Signal attenuation: dendrites vs axon\n",
    "\n",
    "<font size=\"3\">Load the morphology file for your group, and instantiate it as it is done in tutorial 03. Perform a current clamp experiment in which the soma is stimulated in the middle (find the stimulation parameters that support your explanation better). Record the back propagating signals of the dendrites and the forward signal in the axon.\n",
    "\n",
    "<!-- <font size=\"3\"> -->\n",
    "    - What would you expect in terms of attenuation? \n",
    "    - Would you expect the signal to be more attenuated in the axon or in the dendrites and why? \n",
    "    - Which neurite properties does attenuation depend on?\n",
    "    \n",
    "    \n",
    "<font color= 'red'>[2 pts]\n",
    "    "
   ]
  },
  {
   "cell_type": "markdown",
   "metadata": {},
   "source": [
    "#### For this question, restark your kernel, and run only the definitions cell and the class NEURON cell."
   ]
  },
  {
   "cell_type": "markdown",
   "metadata": {},
   "source": [
    "Below, we show the signal propagation along the dendrites and the axons respectively when the same current is applied on the soma. Both signals are compared in order to detect which signal is attenuated and which one is not.\n",
    "\n",
    "\n",
    "In terms of attenuation, we expect the signal to be more attenuated in the axons than in the dendrites. Indeed, starting from the soma, the potential will decrease as it travels along the axon. The reason for that is the leak of the current through small passive \"holes\" placed in the membrane all along the axon. In opposition, this is not observed in the dendrites, where the back propagation signal is amplified.\n",
    "Thus, this phenomenon depends on the passive membrane properties of the neurite."
   ]
  },
  {
   "cell_type": "code",
   "execution_count": 22,
   "metadata": {},
   "outputs": [
    {
     "name": "stdout",
     "output_type": "stream",
     "text": [
      "\n",
      "19847 lines read\n"
     ]
    }
   ],
   "source": [
    "Cell = NEURON()"
   ]
  },
  {
   "cell_type": "code",
   "execution_count": 18,
   "metadata": {},
   "outputs": [
    {
     "data": {
      "image/png": "[encoded data removed]",
      "text/plain": [
       "<Figure size 432x288 with 1 Axes>"
      ]
     },
     "metadata": {
      "needs_background": "light"
     },
     "output_type": "display_data"
    },
    {
     "data": {
      "image/png": "[encoded data removed]",
      "text/plain": [
       "<Figure size 432x288 with 1 Axes>"
      ]
     },
     "metadata": {
      "needs_background": "light"
     },
     "output_type": "display_data"
    }
   ],
   "source": [
    "reset()\n",
    "\n",
    "# Scan at different locations with different delays\n",
    "locations = np.linspace(0, 1, 2)\n",
    "\n",
    "# Setup stimulations and recordings\n",
    "iclamp(Cell.somatic[0](0.5), delay = 100, amplitude = 0.47, duration = 500)\n",
    "\n",
    "\n",
    "# dendritic propagation\n",
    "for p in locations:\n",
    "    record_voltage(Cell.dendritic[70](p))\n",
    "    record_voltage(Cell.axonal[70](p))\n",
    "\n",
    "record_voltage(Cell.somatic[0](0.5))\n",
    "\n",
    "    \n",
    "# Simulate and plot\n",
    "v_init = -70\n",
    "t_stop = 700\n",
    "tvi_plots(init_run(v_init, t_stop), voltage_records, current_records, vmax=50, xlim=(80, 140))"
   ]
  },
  {
   "cell_type": "markdown",
   "metadata": {},
   "source": [
    "The above plot allows us to compare the potential of the neurites with he potential of the soma, where the current was injected. We clearly see that the potential in the axons is lower than in the soma. Additionally, we observe that the potential is constant from the soma to the dendrites. This is the result we expected.  \n",
    "In the plot below, the difference of signal propagation is highlighted between the dendrites and the axons. "
   ]
  },
  {
   "cell_type": "code",
   "execution_count": 21,
   "metadata": {},
   "outputs": [
    {
     "data": {
      "image/png": "[encoded data removed]",
      "text/plain": [
       "<Figure size 432x288 with 1 Axes>"
      ]
     },
     "metadata": {
      "needs_background": "light"
     },
     "output_type": "display_data"
    }
   ],
   "source": [
    "# plot only dendrites and axons\n",
    "reset()\n",
    "\n",
    "# Setup stimulations and recordings\n",
    "iclamp(Cell.somatic[0](0.5), delay = 100, amplitude = 0.47, duration = 500)\n",
    "\n",
    "\n",
    "# dendritic propagation\n",
    "record_voltage(Cell.dendritic[70](1))\n",
    "record_voltage(Cell.axonal[70](1))\n",
    "\n",
    "# Simulate and plot\n",
    "v_init = -70\n",
    "t_stop = 700\n",
    "tvi_plots(init_run(v_init, t_stop), voltage_records, current_records, vmax=50, xlim=(80, 140), PlotI=False)"
   ]
  },
  {
   "cell_type": "code",
   "execution_count": null,
   "metadata": {},
   "outputs": [],
   "source": []
  }
 ],
 "metadata": {
  "kernelspec": {
   "display_name": "Python 3 (ipykernel)",
   "language": "python",
   "name": "python3"
  },
  "language_info": {
   "codemirror_mode": {
    "name": "ipython",
    "version": 3
   },
   "file_extension": ".py",
   "mimetype": "text/x-python",
   "name": "python",
   "nbconvert_exporter": "python",
   "pygments_lexer": "ipython3",
   "version": "3.8.10"
  }
 },
 "nbformat": 4,
 "nbformat_minor": 4
}
