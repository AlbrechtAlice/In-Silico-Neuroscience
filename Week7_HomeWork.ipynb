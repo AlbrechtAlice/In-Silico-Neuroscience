{
 "cells": [
  {
   "cell_type": "markdown",
   "metadata": {},
   "source": [
    "<center><font size = \"10\"> Week 7 - Connections <center>\n",
    "<center><font size = \"8\">Home work<center>"
   ]
  },
  {
   "cell_type": "markdown",
   "metadata": {},
   "source": [
    "<font size = \"3\">Please, write your group number and the names and surnames of the group members here\n",
    "<br>Group number: 3\n",
    "<br>Group member1: Laura TESTA\n",
    "<br>Group member2: Alice ALBRECHT\n",
    "<br>Group member3: Clara LE DRAOULEC\n",
    "    \n",
    "        \n",
    "__IMPORTANT:__<font size = \"3\"> Exercises in <font color='red'>red</font> are mandatory assignements to be delivered by next Monday before 23:59.\n",
    "\n",
    "<font size = \"3\">For this home work please use the new set of __FIVE__ good morpholgy files corresponding to your group number. "
   ]
  },
  {
   "cell_type": "markdown",
   "metadata": {},
   "source": [
    "# Optional: Connect all-to-all with random weights.\n",
    "\n",
    "\n",
    "<font size='3'>Connect your five cells all to all (unidirectionally) with random weights, as it is done in tutorial 01 of this week, and display the connectivity matrix with the weights."
   ]
  },
  {
   "cell_type": "code",
   "execution_count": null,
   "metadata": {},
   "outputs": [],
   "source": []
  },
  {
   "cell_type": "markdown",
   "metadata": {},
   "source": [
    "# <font color= 'red'>Ex 1:</font> Connect your cells considering connection probability\n",
    "\n",
    "<font size='3'>Connect your five cells as it is done in tutorial 02, considering the following connection probabilities between cell types:\n",
    "<br> PC - PC: 60 %\n",
    "<br> PC - Inh: 25 %\n",
    "<br> Inh - PC: 39 %\n",
    "<br> Inh - Inh: 37 %\n",
    "\n",
    "<font size='3'> Show the results on a connection probability matrix and the connection weight matrix between the five cells. \n",
    "\n",
    "<font size='3'><font color= 'red'>[1.5 pt]"
   ]
  },
  {
   "cell_type": "code",
   "execution_count": 37,
   "metadata": {},
   "outputs": [],
   "source": [
    "# Load usefull packages\n",
    "%matplotlib inline\n",
    "\n",
    "from neuron import h, gui\n",
    "import matplotlib.pyplot as plt\n",
    "import numpy as np\n",
    "import math as m"
   ]
  },
  {
   "cell_type": "markdown",
   "metadata": {},
   "source": [
    "## Step1: create the class cell"
   ]
  },
  {
   "cell_type": "code",
   "execution_count": 38,
   "metadata": {},
   "outputs": [],
   "source": [
    "class Cell:\n",
    "    def __init__(self, filename, name, cell_type):\n",
    "        self.name = name\n",
    "        self.type = cell_type\n",
    "        self.synapses = []\n",
    "        self.build_morphology(filename)\n",
    "        self.biophysics()\n",
    "\n",
    "    def build_morphology(self, filename):\n",
    "        h.load_file(\"import3d.hoc\")\n",
    "        h.load_file(\"stdlib.hoc\")\n",
    "        # morph_reader = h.Import3d_Neurolucida3()\n",
    "        morph_reader = h.Import3d_SWC_read()\n",
    "        morph_reader.input(filename)\n",
    "        i3d = h.Import3d_GUI(morph_reader, 0)\n",
    "        i3d.instantiate(self)\n",
    "\n",
    "    def biophysics(self):\n",
    "        for sec in h.allsec():\n",
    "            sec.Ra = 100  # Axial resistance in Ohm * cm\n",
    "            sec.cm = 1  # Membrane capacitance in micro Farads / cm^2\n",
    "            sec.insert(\"pas\")\n",
    "            for seg in sec:\n",
    "                seg.pas.g = 0.00003\n",
    "                seg.pas.e = -75\n",
    "\n",
    "        # Insert passive current in the dendrite\n",
    "        for sec in self.soma:\n",
    "            sec.insert(\"hh\")\n",
    "            for seg in sec:\n",
    "                seg.hh.gnabar = 0.12  # Sodium conductance in S/cm2\n",
    "                seg.hh.gkbar = 0.036  # Potassium conductance in S/cm2\n",
    "\n",
    "        if hasattr(self, \"apic\"):\n",
    "            for sec in self.apic:\n",
    "                sec.insert(\"hh\")\n",
    "                for seg in sec:\n",
    "                    seg.hh.gnabar = 0.12  # Sodium conductance in S/cm2\n",
    "                    seg.hh.gkbar = 0.036  # Potassium conductance in S/cm2\n",
    "\n",
    "        for sec in self.dend:\n",
    "            sec.insert(\"hh\")\n",
    "            for seg in sec:\n",
    "                seg.hh.gnabar = 0.12  # Sodium conductance in S/cm2\n",
    "                seg.hh.gkbar = 0.036  # Potassium conductance in S/cm2\n",
    "\n",
    "        for sec in self.axon:\n",
    "            sec.insert(\"hh\")\n",
    "            for seg in sec:\n",
    "                seg.hh.gnabar = 0.12  # Sodium conductance in S/cm2\n",
    "                seg.hh.gkbar = 0.036  # Potassium conductance in S/cm2"
   ]
  },
  {
   "cell_type": "markdown",
   "metadata": {},
   "source": [
    "## Step2: Instantiate different cells."
   ]
  },
  {
   "cell_type": "code",
   "execution_count": 39,
   "metadata": {},
   "outputs": [],
   "source": [
    "Pyr1 = Cell(\"Pyr_01.swc\", \"Pyr1\", \"Pyr\")\n",
    "Pyr2 = Cell(\"Pyr_02.swc\", \"Pyr2\", \"Pyr\")\n",
    "Pyr3 = Cell(\"Pyr_03.swc\", \"Pyr3\", \"Pyr\")\n",
    "Int1 = Cell(\"Int_01.swc\", \"Int1\", \"Int\")\n",
    "Int2 = Cell(\"Int_02.swc\", \"Int2\", \"Int\")\n",
    "cells_Pyr = [Pyr1, Pyr2, Pyr3]\n",
    "cells_Int = [Int1, Int2]\n",
    "cells = cells_Pyr + cells_Int"
   ]
  },
  {
   "cell_type": "code",
   "execution_count": 40,
   "metadata": {},
   "outputs": [
    {
     "name": "stdout",
     "output_type": "stream",
     "text": [
      "Pyr1: 73 apical sections, 61 basal sections, 1 soma sections and 23 axon senctions\n",
      "Pyr2: 39 apical sections, 41 basal sections, 1 soma sections and 118 axon senctions\n",
      "Pyr3: 93 apical sections, 53 basal sections, 1 soma sections and 69 axon senctions\n",
      "Int1: 21 basal sections, 1 soma sections and 526 axon senctions\n",
      "Int2: 21 basal sections, 1 soma sections and 526 axon senctions\n"
     ]
    }
   ],
   "source": [
    "for c in cells_Pyr:\n",
    "    print(\n",
    "        \"%s: %d apical sections, %d basal sections, %d soma sections and %d axon senctions\"\n",
    "        % (c.name, len(c.apic), len(c.dend), len(c.soma), len(c.axon))\n",
    "    )\n",
    "for c in cells_Int:\n",
    "    print(\n",
    "        \"%s: %d basal sections, %d soma sections and %d axon senctions\"\n",
    "        % (c.name, len(c.dend), len(c.soma), len(c.axon))\n",
    "    )"
   ]
  },
  {
   "cell_type": "markdown",
   "metadata": {},
   "source": [
    "## Step3: Connect based on connection probabilities"
   ]
  },
  {
   "cell_type": "code",
   "execution_count": 41,
   "metadata": {},
   "outputs": [],
   "source": [
    "# connect two cells with an exponential synapse at given locations\n",
    "# returns the netcon\n",
    "def connect(\n",
    "    source,\n",
    "    target,\n",
    "    weight=None,\n",
    "    delay=5,\n",
    "    source_sec=None,\n",
    "    source_neurite=\"axon\",\n",
    "    target_sec=None,\n",
    "    target_neurite=\"dend\",\n",
    "):\n",
    "    rng = np.random.default_rng()\n",
    "\n",
    "    if weight is None:\n",
    "        weight = rng.uniform()  # random weight\n",
    "\n",
    "    target_neurite_ = getattr(target, target_neurite)\n",
    "    if target_sec is None:\n",
    "        target_sec = rng.integers(0, len(target_neurite_))  # random dendritic section\n",
    "\n",
    "    source_neurite_ = getattr(source, source_neurite)\n",
    "    if source_sec is None:\n",
    "        source_sec = rng.integers(0, len(source_neurite_))  # random axonal section\n",
    "\n",
    "    target_syn = h.ExpSyn(target_neurite_[target_sec](0.5))\n",
    "    target.synapses.append(target_syn)  # store synapse\n",
    "\n",
    "    netcon = h.NetCon(\n",
    "        source_neurite_[source_sec](0.5)._ref_v,\n",
    "        target_syn,\n",
    "        sec=source_neurite_[source_sec],\n",
    "    )\n",
    "    netcon.weight[0] = weight\n",
    "    netcon.delay = delay\n",
    "\n",
    "    print(\n",
    "        \"Connected cells %s -> %s with weight %g and delay %g, from %s[%d] to %s[%d]\"\n",
    "        % (\n",
    "            source.name,\n",
    "            target.name,\n",
    "            weight,\n",
    "            delay,\n",
    "            source_neurite,\n",
    "            source_sec,\n",
    "            target_neurite,\n",
    "            target_sec,\n",
    "        )\n",
    "    )\n",
    "    return netcon"
   ]
  },
  {
   "cell_type": "code",
   "execution_count": 42,
   "metadata": {},
   "outputs": [],
   "source": [
    "# specify connection probabilites between cell types\n",
    "conn_prob_matrix = np.zeros((2, 2))\n",
    "conn_prob_matrix[0, 0] = 0.6   # Pyr to Pyr (PC-PC)\n",
    "conn_prob_matrix[0, 1] = 0.25  # Pyr to Int (PC-Inh)\n",
    "conn_prob_matrix[1, 0] = 0.39  # Int to Pyr (Inh-PC)\n",
    "conn_prob_matrix[1, 1] = 0.37  # Int to Int (Inh-Inh)"
   ]
  },
  {
   "cell_type": "code",
   "execution_count": 43,
   "metadata": {},
   "outputs": [
    {
     "name": "stdout",
     "output_type": "stream",
     "text": [
      "Connected cells Pyr2 -> Pyr1 with weight 0.899955 and delay 5, from axon[13] to dend[1]\n",
      "Connected cells Pyr1 -> Pyr3 with weight 0.116344 and delay 5, from axon[19] to dend[33]\n",
      "Connected cells Pyr3 -> Pyr1 with weight 0.427596 and delay 5, from axon[54] to dend[11]\n",
      "Connected cells Pyr2 -> Pyr3 with weight 0.714248 and delay 5, from axon[86] to dend[40]\n",
      "Connected cells Pyr3 -> Pyr2 with weight 0.386097 and delay 5, from axon[32] to dend[8]\n",
      "Connected cells Int1 -> Pyr1 with weight 0.770327 and delay 5, from axon[214] to soma[0]\n",
      "Connected cells Int1 -> Pyr2 with weight 0.284521 and delay 5, from axon[417] to soma[0]\n",
      "Connected cells Pyr3 -> Int1 with weight 0.549939 and delay 5, from axon[12] to dend[8]\n",
      "Connected cells Int2 -> Pyr3 with weight 0.684037 and delay 5, from axon[367] to soma[0]\n",
      "Connected cells Int1 -> Int2 with weight 0.0212106 and delay 5, from axon[133] to dend[1]\n"
     ]
    }
   ],
   "source": [
    "# store the weight for each connection - 0 if no connection\n",
    "weight_matrix = np.zeros((5,5))\n",
    "\n",
    "netcons = []  # store all netcons\n",
    "\n",
    "rng = np.random.default_rng()\n",
    "\n",
    "##### PC-PC #####\n",
    "# Connect Pyr1 to Pyr2\n",
    "if rng.random() < conn_prob_matrix[0, 0]:\n",
    "    nc = connect(Pyr1, Pyr2)\n",
    "    netcons.append(nc)\n",
    "    weight_matrix[1,0] = nc.weight[0]\n",
    "    \n",
    "# Connect Pyr2 to Pyr1\n",
    "if rng.random() < conn_prob_matrix[0, 0]:\n",
    "    nc = connect(Pyr2, Pyr1)\n",
    "    netcons.append(nc)\n",
    "    weight_matrix[0,1] = nc.weight[0]\n",
    "    \n",
    "# Connect Pyr1 to Pyr3\n",
    "if rng.random() < conn_prob_matrix[0, 0]:\n",
    "    nc = connect(Pyr1, Pyr3)\n",
    "    netcons.append(nc)\n",
    "    weight_matrix[2,0] = nc.weight[0]\n",
    "    \n",
    "# Connect Pyr3 to Pyr1\n",
    "if rng.random() < conn_prob_matrix[0, 0]:\n",
    "    nc = connect(Pyr3, Pyr1)\n",
    "    netcons.append(nc)\n",
    "    weight_matrix[0,2] = nc.weight[0]\n",
    "    \n",
    "# Connect Pyr2 to Pyr3\n",
    "if rng.random() < conn_prob_matrix[0, 0]:\n",
    "    nc = connect(Pyr2, Pyr3)\n",
    "    netcons.append(nc)\n",
    "    weight_matrix[2,1] = nc.weight[0]\n",
    "    \n",
    "# Connect Pyr3 to Pyr2\n",
    "if rng.random() < conn_prob_matrix[0, 0]:\n",
    "    nc = connect(Pyr3, Pyr2)\n",
    "    netcons.append(nc)\n",
    "    weight_matrix[1,2] = nc.weight[0]\n",
    "\n",
    "    \n",
    "##### PC-Inh #####\n",
    "# Connect Pyr1 to Int1\n",
    "if rng.random() < conn_prob_matrix[0, 1]:\n",
    "    nc = connect(Pyr1, Int1)\n",
    "    netcons.append(nc)\n",
    "    weight_matrix[3,0] = nc.weight[0]\n",
    "\n",
    "# Connect Pyr1 to Int2\n",
    "if rng.random() < conn_prob_matrix[0, 1]:\n",
    "    nc = connect(Pyr1, Int2)\n",
    "    netcons.append(nc)\n",
    "    weight_matrix[4,0] = nc.weight[0]\n",
    "    \n",
    "# Connect Pyr2 to Int1\n",
    "if rng.random() < conn_prob_matrix[0, 1]:\n",
    "    nc = connect(Pyr2, Int1)\n",
    "    netcons.append(nc)\n",
    "    weight_matrix[3,1] = nc.weight[0]  \n",
    "\n",
    "# Connect Pyr2 to Int2\n",
    "if rng.random() < conn_prob_matrix[0, 1]:\n",
    "    nc = connect(Pyr2, Int2)\n",
    "    netcons.append(nc)\n",
    "    weight_matrix[4,1] = nc.weight[0]\n",
    "    \n",
    "# Connect Pyr3 to Int1\n",
    "if rng.random() < conn_prob_matrix[0, 1]:\n",
    "    nc = connect(Pyr3, Int1)\n",
    "    netcons.append(nc)\n",
    "    weight_matrix[3,2] = nc.weight[0]\n",
    "    \n",
    "# Connect Pyr3 to Int2\n",
    "if rng.random() < conn_prob_matrix[0, 1]:\n",
    "    nc = connect(Pyr3, Int2)\n",
    "    netcons.append(nc)\n",
    "    weight_matrix[4,2] = nc.weight[0]\n",
    "    \n",
    "    \n",
    "##### Inh-PC #####\n",
    "# Connect Int1 to Pyr1\n",
    "if rng.random() < conn_prob_matrix[1, 0]:\n",
    "    nc = connect(Int1, Pyr1, target_neurite=\"soma\")\n",
    "    netcons.append(nc)\n",
    "    weight_matrix[0,3] = nc.weight[0]\n",
    "\n",
    "# Connect Int1 to Pyr2\n",
    "if rng.random() < conn_prob_matrix[1, 0]:\n",
    "    nc = connect(Int1, Pyr2, target_neurite=\"soma\")\n",
    "    netcons.append(nc)\n",
    "    weight_matrix[1,3] = nc.weight[0]\n",
    "\n",
    "# Connect Int1 to Pyr3\n",
    "if rng.random() < conn_prob_matrix[1, 0]:\n",
    "    nc = connect(Int1, Pyr3, target_neurite=\"soma\")\n",
    "    netcons.append(nc)\n",
    "    weight_matrix[2,3] = nc.weight[0]\n",
    "        \n",
    "# Connect Int2 to Pyr1\n",
    "if rng.random() < conn_prob_matrix[1, 0]:\n",
    "    nc = connect(Int2, Pyr1, target_neurite=\"soma\")\n",
    "    netcons.append(nc)\n",
    "    weight_matrix[0,4] = nc.weight[0]\n",
    "    \n",
    "# Connect Int2 to Pyr2\n",
    "if rng.random() < conn_prob_matrix[1, 0]:\n",
    "    nc = connect(Int2, Pyr2, target_neurite=\"soma\")\n",
    "    netcons.append(nc)\n",
    "    weight_matrix[1,4] = nc.weight[0]\n",
    "    \n",
    "# Connect Int2 to Pyr3\n",
    "if rng.random() < conn_prob_matrix[1, 0]:\n",
    "    nc = connect(Int2, Pyr3, target_neurite=\"soma\")\n",
    "    netcons.append(nc)\n",
    "    weight_matrix[2,4] = nc.weight[0]\n",
    "    \n",
    "    \n",
    "##### Inh-Inh #####\n",
    "# Connect Int1 to Int2\n",
    "if rng.random() < conn_prob_matrix[1, 1]:\n",
    "    nc = connect(Int1, Int2)\n",
    "    netcons.append(nc)\n",
    "    weight_matrix[4,3] = nc.weight[0]\n",
    "    \n",
    "# Connect Int2 to Int1\n",
    "if rng.random() < conn_prob_matrix[1, 1]:\n",
    "    nc = connect(Int2, Int1)\n",
    "    netcons.append(nc)\n",
    "    weight_matrix[3,4] = nc.weight[0]"
   ]
  },
  {
   "cell_type": "markdown",
   "metadata": {},
   "source": [
    "<font size='3'>To test connectivity, let's stimulate one neuron and record another"
   ]
  },
  {
   "cell_type": "code",
   "execution_count": 44,
   "metadata": {},
   "outputs": [],
   "source": [
    "stim_cell = Pyr2\n",
    "stim_syn = h.ExpSyn(stim_cell.dend[20](0.5))\n",
    "stim = h.NetStim()  # Make a new stimulator\n",
    "ncstim = h.NetCon(stim, stim_syn)  # Connect stimulator to synapse"
   ]
  },
  {
   "cell_type": "code",
   "execution_count": 45,
   "metadata": {},
   "outputs": [
    {
     "data": {
      "image/png": "[encoded data removed]",
      "text/plain": [
       "<Figure size 432x288 with 1 Axes>"
      ]
     },
     "metadata": {
      "needs_background": "light"
     },
     "output_type": "display_data"
    }
   ],
   "source": [
    "stim.number = 10  # Number of spikes (average)\n",
    "stim.start = 10  # First spike delay [ms]\n",
    "ncstim.delay = 1  # NetCon ms\n",
    "ncstim.weight[0] = 0.8  # NetCon weight\n",
    "\n",
    "recording_cell = Pyr1\n",
    "\n",
    "soma_v = h.Vector().record(recording_cell.soma[0](0.5)._ref_v)\n",
    "dend_v = h.Vector().record(recording_cell.dend[20](0.5)._ref_v)\n",
    "t = h.Vector().record(h._ref_t)\n",
    "\n",
    "h.finitialize(-65)\n",
    "h.continuerun(100)\n",
    "plt.plot(t, soma_v, label=\"soma(0.5)\")\n",
    "plt.plot(t, dend_v, label=\"dend(0.5)\")\n",
    "plt.legend()\n",
    "plt.show()"
   ]
  },
  {
   "cell_type": "markdown",
   "metadata": {},
   "source": [
    "## Step4: Connection probability matrix (between cell types)"
   ]
  },
  {
   "cell_type": "code",
   "execution_count": 46,
   "metadata": {},
   "outputs": [
    {
     "data": {
      "text/plain": [
       "<matplotlib.colorbar.Colorbar at 0x7fd289848250>"
      ]
     },
     "execution_count": 46,
     "metadata": {},
     "output_type": "execute_result"
    },
    {
     "data": {
      "image/png": "[encoded data removed]",
      "text/plain": [
       "<Figure size 432x288 with 2 Axes>"
      ]
     },
     "metadata": {
      "needs_background": "light"
     },
     "output_type": "display_data"
    }
   ],
   "source": [
    "plt.imshow(conn_prob_matrix, cmap=\"viridis\", vmin=0.0, vmax=1.0)\n",
    "plt.colorbar()"
   ]
  },
  {
   "cell_type": "markdown",
   "metadata": {},
   "source": [
    "## Step5: Connection weight matrix (between cells)"
   ]
  },
  {
   "cell_type": "code",
   "execution_count": 47,
   "metadata": {},
   "outputs": [],
   "source": [
    "def heatmap(data, row_labels, col_labels, ax=None, cbar_kw={}, cbarlabel=\"\", **kwargs):\n",
    "    \"\"\"\n",
    "    Create a heatmap from a numpy array and two lists of labels.\n",
    "\n",
    "    Parameters\n",
    "    ----------\n",
    "    data\n",
    "        A 2D numpy array of shape (N, M).\n",
    "    row_labels\n",
    "        A list or array of length N with the labels for the rows.\n",
    "    col_labels\n",
    "        A list or array of length M with the labels for the columns.\n",
    "    ax\n",
    "        A `matplotlib.axes.Axes` instance to which the heatmap is plotted.  If\n",
    "        not provided, use current axes or create a new one.  Optional.\n",
    "    cbar_kw\n",
    "        A dictionary with arguments to `matplotlib.Figure.colorbar`.  Optional.\n",
    "    cbarlabel\n",
    "        The label for the colorbar.  Optional.\n",
    "    **kwargs\n",
    "        All other arguments are forwarded to `imshow`.\n",
    "    \"\"\"\n",
    "\n",
    "    if not ax:\n",
    "        ax = plt.gca()\n",
    "\n",
    "    # Plot the heatmap\n",
    "    im = ax.imshow(data, **kwargs)\n",
    "\n",
    "    # Create colorbar\n",
    "    cbar = ax.figure.colorbar(im, ax=ax, **cbar_kw)\n",
    "    cbar.ax.set_ylabel(cbarlabel, rotation=-90, va=\"bottom\")\n",
    "\n",
    "    # We want to show all ticks...\n",
    "    ax.set_xticks(np.arange(data.shape[1]))\n",
    "    ax.set_yticks(np.arange(data.shape[0]))\n",
    "    # ... and label them with the respective list entries.\n",
    "    ax.set_xticklabels(col_labels)\n",
    "    ax.set_yticklabels(row_labels)\n",
    "\n",
    "    # Let the horizontal axes labeling appear on top.\n",
    "    ax.tick_params(top=True, bottom=False, labeltop=True, labelbottom=False)\n",
    "\n",
    "    # Rotate the tick labels and set their alignment.\n",
    "    plt.setp(ax.get_xticklabels(), rotation=-30, ha=\"right\", rotation_mode=\"anchor\")\n",
    "\n",
    "    # Turn spines off and create white grid.\n",
    "    for edge, spine in ax.spines.items():\n",
    "        spine.set_visible(False)\n",
    "\n",
    "    ax.set_xticks(np.arange(data.shape[1] + 1) - 0.5, minor=True)\n",
    "    ax.set_yticks(np.arange(data.shape[0] + 1) - 0.5, minor=True)\n",
    "    ax.grid(which=\"minor\", color=\"w\", linestyle=\"-\", linewidth=3)\n",
    "    ax.tick_params(which=\"minor\", bottom=False, left=False)\n",
    "\n",
    "    return im, cbar"
   ]
  },
  {
   "cell_type": "code",
   "execution_count": 48,
   "metadata": {},
   "outputs": [
    {
     "data": {
      "image/png": "[encoded data removed]",
      "text/plain": [
       "<Figure size 432x288 with 2 Axes>"
      ]
     },
     "metadata": {
      "needs_background": "light"
     },
     "output_type": "display_data"
    }
   ],
   "source": [
    "fig, ax = plt.subplots()\n",
    "\n",
    "im, cbar = heatmap(\n",
    "    weight_matrix,\n",
    "    [\"Pyr1\", \"Pyr2\", \"Pyr3\", \"Inh1\", \"Inh2\"],\n",
    "    [\"Pyr1\", \"Pyr2\", \"Pyr3\", \"Inh1\", \"Inh2\"],\n",
    "    ax=ax,\n",
    "    cmap=\"viridis\",\n",
    "    cbarlabel=\"harvest [t/year]\",\n",
    ")\n",
    "\n",
    "fig.tight_layout()"
   ]
  },
  {
   "cell_type": "markdown",
   "metadata": {},
   "source": [
    "We can notice that there are many weights equal to 0. This is due to the absence of connection. We play with the probabilities to create a connection between two cells and if there is no connection then we leave a weight of 0. Also we made the choice not to put a seed so it is possible to rerun the boxes above and find other results corresponding to other connections."
   ]
  },
  {
   "cell_type": "markdown",
   "metadata": {},
   "source": [
    "# <font color= 'red'>Ex 2:</font>  Distribution of contacts: Convergence Matrix\n",
    "\n",
    "<font size='3'>\n",
    "\n",
    "Considering the following mean contact points between cell types: \n",
    "- PC_axon - PC_basal: 6\n",
    "- PC_axon - PC_apical: 1\n",
    "- PC_axon - Inh_basal: 2\n",
    "- Inh_axon - PC_soma: 4\n",
    "- Inh_axon - PC_basal: 3\n",
    "- Inh_axon - Inh_soma: 5\n",
    "- Inh_axon - Inh_basal: 1\n",
    "\n",
    "\n",
    "Following and expanding the implementation from Tutorial 3: connect the neurons by selecting the specific contact points. The connections should follow a __normal distribution__ with the mean value per connection specified by the above values. \n",
    "Show the results on a __convergence__ matrix (how many contacts each of the cells receives from the others). \n",
    "\n",
    "Stimulate the connected neurons and briefly interpret the relationship between the number of connections and your simulation results.\n",
    "\n",
    "<font color= 'red'><font size='3'>[2 pts] "
   ]
  },
  {
   "cell_type": "markdown",
   "metadata": {},
   "source": [
    "***Note : In the previous exercice we already define the class \"Cell\", import the 5 given cells (Pyr1, Pyr2, Pyr3, Int1, Int2) and apply the connection probabilities between cell types.***"
   ]
  },
  {
   "cell_type": "markdown",
   "metadata": {},
   "source": [
    "## Step6: Connect with morphological distribution of contacts"
   ]
  },
  {
   "cell_type": "code",
   "execution_count": 49,
   "metadata": {},
   "outputs": [],
   "source": [
    "# specify expected number of contacts between cell types, considering target neurite\n",
    "# 0:soma, 1:dend(basal), 2:apic(apical)\n",
    "expected_contacts = np.zeros((2, 2, 3), dtype=int)\n",
    "\n",
    "expected_contacts[0, 0, 1] = 6  # Pyr to Pyr (dend)\n",
    "expected_contacts[0, 0, 2] = 1  # Pyr to Pyr (apic)\n",
    "\n",
    "expected_contacts[0, 1, 1] = 2  # Pyr to Int (dend)\n",
    "\n",
    "expected_contacts[1, 0, 0] = 4  # Int to Pyr (soma)\n",
    "expected_contacts[1, 0, 1] = 3  # Int to Pyr (dend)\n",
    "\n",
    "expected_contacts[1, 1, 0] = 5  # Int to Int (soma)\n",
    "expected_contacts[1, 1, 1] = 1  # Int to Int (dend)"
   ]
  },
  {
   "cell_type": "code",
   "execution_count": 50,
   "metadata": {},
   "outputs": [
    {
     "data": {
      "text/plain": [
       "array([[[0, 6, 1],\n",
       "        [0, 2, 0]],\n",
       "\n",
       "       [[4, 3, 0],\n",
       "        [5, 1, 0]]])"
      ]
     },
     "execution_count": 50,
     "metadata": {},
     "output_type": "execute_result"
    }
   ],
   "source": [
    "expected_contacts"
   ]
  },
  {
   "cell_type": "code",
   "execution_count": 52,
   "metadata": {},
   "outputs": [
    {
     "name": "stdout",
     "output_type": "stream",
     "text": [
      "Connected cells Pyr1 -> Pyr2 with weight 0.0106231 and delay 5, from axon[1] to dend[13]\n",
      "Connected cells Pyr1 -> Pyr2 with weight 0.798238 and delay 5, from axon[4] to dend[32]\n",
      "Connected cells Pyr1 -> Pyr2 with weight 0.54081 and delay 5, from axon[9] to dend[13]\n",
      "Connected cells Pyr1 -> Pyr2 with weight 0.319058 and delay 5, from axon[20] to dend[22]\n",
      "Connected cells Pyr1 -> Pyr2 with weight 0.849737 and delay 5, from axon[5] to dend[38]\n",
      "Connected cells Pyr2 -> Pyr1 with weight 0.70229 and delay 5, from axon[114] to dend[30]\n",
      "Connected cells Pyr2 -> Pyr1 with weight 0.690203 and delay 5, from axon[23] to dend[0]\n",
      "Connected cells Pyr2 -> Pyr1 with weight 0.556654 and delay 5, from axon[77] to dend[58]\n",
      "Connected cells Pyr2 -> Pyr1 with weight 0.297667 and delay 5, from axon[111] to dend[43]\n",
      "Connected cells Pyr2 -> Pyr1 with weight 0.874607 and delay 5, from axon[73] to dend[35]\n",
      "Connected cells Pyr2 -> Pyr1 with weight 0.564368 and delay 5, from axon[94] to dend[60]\n",
      "Connected cells Pyr3 -> Pyr2 with weight 0.413286 and delay 5, from axon[12] to dend[3]\n",
      "Connected cells Pyr3 -> Pyr2 with weight 0.597854 and delay 5, from axon[66] to dend[39]\n",
      "Connected cells Pyr3 -> Pyr2 with weight 0.744406 and delay 5, from axon[51] to dend[14]\n",
      "Connected cells Pyr3 -> Pyr2 with weight 0.261688 and delay 5, from axon[60] to dend[15]\n",
      "Connected cells Pyr3 -> Pyr2 with weight 0.9848 and delay 5, from axon[7] to dend[20]\n",
      "Connected cells Pyr3 -> Pyr2 with weight 0.448379 and delay 5, from axon[51] to dend[33]\n",
      "Connected cells Pyr3 -> Pyr2 with weight 0.664422 and delay 5, from axon[30] to apic[16]\n",
      "Connected cells Int1 -> Pyr1 with weight 0.950601 and delay 5, from axon[135] to soma[0]\n",
      "Connected cells Int1 -> Pyr1 with weight 0.314925 and delay 5, from axon[365] to soma[0]\n",
      "Connected cells Int1 -> Pyr1 with weight 0.90313 and delay 5, from axon[397] to soma[0]\n",
      "Connected cells Int1 -> Pyr1 with weight 0.86597 and delay 5, from axon[138] to soma[0]\n",
      "Connected cells Int1 -> Pyr1 with weight 0.000207035 and delay 5, from axon[359] to dend[7]\n",
      "Connected cells Int1 -> Pyr1 with weight 0.617574 and delay 5, from axon[145] to dend[25]\n",
      "Connected cells Int1 -> Pyr3 with weight 0.841556 and delay 5, from axon[455] to dend[31]\n",
      "Connected cells Int1 -> Pyr3 with weight 0.00892816 and delay 5, from axon[405] to dend[6]\n",
      "Connected cells Int1 -> Pyr3 with weight 0.0295683 and delay 5, from axon[504] to dend[39]\n",
      "Connected cells Int1 -> Pyr3 with weight 0.79873 and delay 5, from axon[408] to dend[41]\n",
      "Connected cells Int1 -> Pyr3 with weight 0.296144 and delay 5, from axon[372] to dend[4]\n",
      "Connected cells Int1 -> Pyr3 with weight 0.976846 and delay 5, from axon[378] to dend[24]\n",
      "Connected cells Int1 -> Pyr3 with weight 0.737056 and delay 5, from axon[443] to apic[0]\n",
      "Connected cells Int1 -> Int2 with weight 0.799648 and delay 5, from axon[180] to dend[6]\n",
      "Connected cells Int1 -> Int2 with weight 0.0857589 and delay 5, from axon[338] to dend[0]\n",
      "Connected cells Int1 -> Int2 with weight 0.199523 and delay 5, from axon[509] to dend[6]\n",
      "Connected cells Int1 -> Int2 with weight 0.025735 and delay 5, from axon[48] to dend[10]\n",
      "Connected cells Int1 -> Int2 with weight 0.751322 and delay 5, from axon[266] to dend[15]\n",
      "Connected cells Int1 -> Int2 with weight 0.000154699 and delay 5, from axon[214] to dend[0]\n"
     ]
    }
   ],
   "source": [
    "# generate number of contacts per cell type, by selecting them from a normal distribution\n",
    "# in which the mean is the expected_contacts value\n",
    "\n",
    "netcons = []  # store all netcons\n",
    "rng = np.random.default_rng()\n",
    "\n",
    "##### PC-PC #####\n",
    "\n",
    "# Connect Pyr1 to Pyr2\n",
    "if rng.random() < conn_prob_matrix[0, 0]:\n",
    "    for i, neurite in enumerate([\"soma\", \"dend\", \"apic\"]):\n",
    "        contacts = expected_contacts[0, 0, i]\n",
    "        if contacts > 0:\n",
    "            contacts = m.floor(rng.normal(contacts))\n",
    "        if contacts < 0:\n",
    "            contacts = 0\n",
    "        for i in range(0, contacts):\n",
    "            nc = connect(Pyr1, Pyr2, target_neurite=neurite)\n",
    "            netcons.append(nc)\n",
    "\n",
    "# Connect Pyr2 to Pyr1\n",
    "if rng.random() < conn_prob_matrix[0, 0]:\n",
    "    for i, neurite in enumerate([\"soma\", \"dend\", \"apic\"]):\n",
    "        contacts = expected_contacts[0, 0, i]\n",
    "        if contacts > 0:\n",
    "            contacts = m.floor(rng.normal(contacts))\n",
    "        if contacts < 0:\n",
    "            contacts = 0\n",
    "        for i in range(0, contacts):\n",
    "            nc = connect(Pyr2, Pyr1, target_neurite=neurite)\n",
    "            netcons.append(nc)\n",
    "            \n",
    "# Connect Pyr1 to Pyr3\n",
    "if rng.random() < conn_prob_matrix[0, 0]:\n",
    "    for i, neurite in enumerate([\"soma\", \"dend\", \"apic\"]):\n",
    "        contacts = expected_contacts[0, 0, i]\n",
    "        if contacts > 0:\n",
    "            contacts = m.floor(rng.normal(contacts))\n",
    "        if contacts < 0:\n",
    "            contacts = 0\n",
    "        for i in range(0, contacts):\n",
    "            nc = connect(Pyr1, Pyr3, target_neurite=neurite)\n",
    "            netcons.append(nc)\n",
    "\n",
    "# Connect Pyr3 to Pyr1\n",
    "if rng.random() < conn_prob_matrix[0, 0]:\n",
    "    for i, neurite in enumerate([\"soma\", \"dend\", \"apic\"]):\n",
    "        contacts = expected_contacts[0, 0, i]\n",
    "        if contacts > 0:\n",
    "            contacts = m.floor(rng.normal(contacts))\n",
    "        if contacts < 0:\n",
    "            contacts = 0\n",
    "        for i in range(0, contacts):\n",
    "            nc = connect(Pyr3, Pyr1, target_neurite=neurite)\n",
    "            netcons.append(nc)\n",
    "            \n",
    "# Connect Pyr2 to Pyr3\n",
    "if rng.random() < conn_prob_matrix[0, 0]:\n",
    "    for i, neurite in enumerate([\"soma\", \"dend\", \"apic\"]):\n",
    "        contacts = expected_contacts[0, 0, i]\n",
    "        if contacts > 0:\n",
    "            contacts = m.floor(rng.normal(contacts))\n",
    "        if contacts < 0:\n",
    "            contacts = 0\n",
    "        for i in range(0, contacts):\n",
    "            nc = connect(Pyr2, Pyr3, target_neurite=neurite)\n",
    "            netcons.append(nc)\n",
    "\n",
    "# Connect Pyr3 to Pyr2\n",
    "if rng.random() < conn_prob_matrix[0, 0]:\n",
    "    for i, neurite in enumerate([\"soma\", \"dend\", \"apic\"]):\n",
    "        contacts = expected_contacts[0, 0, i]\n",
    "        if contacts > 0:\n",
    "            contacts = m.floor(rng.normal(contacts))\n",
    "        if contacts < 0:\n",
    "            contacts = 0\n",
    "        for i in range(0, contacts):\n",
    "            nc = connect(Pyr3, Pyr2, target_neurite=neurite)\n",
    "            netcons.append(nc)\n",
    "            \n",
    "            \n",
    "##### PC-Inh ##### NO APICAL IN INHIBITORY CELLS\n",
    "\n",
    "# Connect Pry1 to Int1\n",
    "if rng.random() < conn_prob_matrix[0, 1]:\n",
    "    for i, neurite in enumerate([\"soma\", \"dend\"]):\n",
    "        contacts = expected_contacts[1, 0, i]\n",
    "        if contacts > 0:\n",
    "            contacts = m.floor(rng.normal(contacts))\n",
    "        if contacts < 0:\n",
    "            contacts = 0\n",
    "        for i in range(0, contacts):\n",
    "            nc = connect(Pry1, Int1, target_neurite=neurite)\n",
    "            netcons.append(nc)\n",
    "\n",
    "# Connect Pry1 to Int2\n",
    "if rng.random() < conn_prob_matrix[0, 1]:\n",
    "    for i, neurite in enumerate([\"soma\", \"dend\"]):\n",
    "        contacts = expected_contacts[1, 0, i]\n",
    "        if contacts > 0:\n",
    "            contacts = m.floor(rng.normal(contacts))\n",
    "        if contacts < 0:\n",
    "            contacts = 0\n",
    "        for i in range(0, contacts):\n",
    "            nc = connect(Pry1, Int2, target_neurite=neurite)\n",
    "            netcons.append(nc)\n",
    "               \n",
    "# Connect Pyr2 to Int1\n",
    "if rng.random() < conn_prob_matrix[0, 1]:\n",
    "    for i, neurite in enumerate([\"soma\", \"dend\"]):\n",
    "        contacts = expected_contacts[0, 1, i]\n",
    "        if contacts > 0:\n",
    "            contacts = m.floor(rng.normal(contacts))\n",
    "        if contacts < 0:\n",
    "            contacts = 0\n",
    "        for i in range(0, contacts):\n",
    "            nc = connect(Pyr2, Int1, target_neurite=neurite)\n",
    "            netcons.append(nc)\n",
    "            \n",
    "# Connect Pyr2 to Int2\n",
    "if rng.random() < conn_prob_matrix[0, 1]:\n",
    "    for i, neurite in enumerate([\"soma\", \"dend\"]):\n",
    "        contacts = expected_contacts[0, 1, i]\n",
    "        if contacts > 0:\n",
    "            contacts = m.floor(rng.normal(contacts))\n",
    "        if contacts < 0:\n",
    "            contacts = 0\n",
    "        for i in range(0, contacts):\n",
    "            nc = connect(Pyr2, Int2, target_neurite=neurite)\n",
    "            netcons.append(nc)\n",
    "            \n",
    "# Connect Pyr3 to Int1\n",
    "if rng.random() < conn_prob_matrix[0, 1]:\n",
    "    for i, neurite in enumerate([\"soma\", \"dend\"]):\n",
    "        contacts = expected_contacts[0, 0, i]\n",
    "        if contacts > 0:\n",
    "            contacts = m.floor(rng.normal(contacts))\n",
    "        if contacts < 0:\n",
    "            contacts = 0\n",
    "        for i in range(0, contacts):\n",
    "            nc = connect(Pyr3, Int1, target_neurite=neurite)\n",
    "            netcons.append(nc)\n",
    "\n",
    "# Connect Pyr3 to Int2\n",
    "if rng.random() < conn_prob_matrix[0, 1]:\n",
    "    for i, neurite in enumerate([\"soma\", \"dend\"]):\n",
    "        contacts = expected_contacts[0, 0, i]\n",
    "        if contacts > 0:\n",
    "            contacts = m.floor(rng.normal(contacts))\n",
    "        if contacts < 0:\n",
    "            contacts = 0\n",
    "        for i in range(0, contacts):\n",
    "            nc = connect(Pyr3, Int2, target_neurite=neurite)\n",
    "            netcons.append(nc)           \n",
    "\n",
    "            \n",
    "##### Inh-PC #####\n",
    "\n",
    "# Connect Int1 to Pyr1\n",
    "if rng.random() < conn_prob_matrix[1, 0]:\n",
    "    for i, neurite in enumerate([\"soma\", \"dend\", \"apic\"]):\n",
    "        contacts = expected_contacts[1, 0, i]\n",
    "        if contacts > 0:\n",
    "            contacts = m.floor(rng.normal(contacts))\n",
    "        if contacts < 0:\n",
    "            contacts = 0\n",
    "        for i in range(0, contacts):\n",
    "            nc = connect(Int1, Pyr1, target_neurite=neurite)\n",
    "            netcons.append(nc)\n",
    "\n",
    "# Connect Int1 to Pry2\n",
    "if rng.random() < conn_prob_matrix[1, 0]:\n",
    "    for i, neurite in enumerate([\"soma\", \"dend\", \"apic\"]):\n",
    "        contacts = expected_contacts[0, 1, i]\n",
    "        if contacts > 0:\n",
    "            contacts = m.floor(rng.normal(contacts))\n",
    "        if contacts < 0:\n",
    "            contacts = 0\n",
    "        for i in range(0, contacts):\n",
    "            nc = connect(Int1, Pry2, target_neurite=neurite)\n",
    "            netcons.append(nc)\n",
    "\n",
    "# Connect Int1 to Pyr3\n",
    "if rng.random() < conn_prob_matrix[1, 0]:\n",
    "    for i, neurite in enumerate([\"soma\", \"dend\", \"apic\"]):\n",
    "        contacts = expected_contacts[0, 0, i]\n",
    "        if contacts > 0:\n",
    "            contacts = m.floor(rng.normal(contacts))\n",
    "        if contacts < 0:\n",
    "            contacts = 0\n",
    "        for i in range(0, contacts):\n",
    "            nc = connect(Int1, Pyr3, target_neurite=neurite)\n",
    "            netcons.append(nc)\n",
    "\n",
    "# Connect Int2 to Pyr1\n",
    "if rng.random() < conn_prob_matrix[1, 0]:\n",
    "    for i, neurite in enumerate([\"soma\", \"dend\", \"apic\"]):\n",
    "        contacts = expected_contacts[1, 0, i]\n",
    "        if contacts > 0:\n",
    "            contacts = m.floor(rng.normal(contacts))\n",
    "        if contacts < 0:\n",
    "            contacts = 0\n",
    "        for i in range(0, contacts):\n",
    "            nc = connect(Int2, Pyr1, target_neurite=neurite)\n",
    "            netcons.append(nc)\n",
    "\n",
    "# Connect Int2 to Pry2\n",
    "if rng.random() < conn_prob_matrix[1, 0]:\n",
    "    for i, neurite in enumerate([\"soma\", \"dend\", \"apic\"]):\n",
    "        contacts = expected_contacts[0, 1, i]\n",
    "        if contacts > 0:\n",
    "            contacts = m.floor(rng.normal(contacts))\n",
    "        if contacts < 0:\n",
    "            contacts = 0\n",
    "        for i in range(0, contacts):\n",
    "            nc = connect(Int2, Pyr2, target_neurite=neurite)\n",
    "            netcons.append(nc)\n",
    "            \n",
    "# Connect Int2 to Pyr3\n",
    "if rng.random() < conn_prob_matrix[1, 0]:\n",
    "    for i, neurite in enumerate([\"soma\", \"dend\", \"apic\"]):\n",
    "        contacts = expected_contacts[0, 0, i]\n",
    "        if contacts > 0:\n",
    "            contacts = m.floor(rng.normal(contacts))\n",
    "        if contacts < 0:\n",
    "            contacts = 0\n",
    "        for i in range(0, contacts):\n",
    "            nc = connect(Int2, Pyr3, target_neurite=neurite)\n",
    "            netcons.append(nc)\n",
    "\n",
    "\n",
    "##### Inh-Inh ##### NO APICAL IN INHIBITORY CELLS\n",
    "\n",
    "# Connect Int1 to Int2\n",
    "if rng.random() < conn_prob_matrix[1, 1]:\n",
    "    for i, neurite in enumerate([\"soma\", \"dend\"]):\n",
    "        contacts = expected_contacts[0, 0, i]\n",
    "        if contacts > 0:\n",
    "            contacts = m.floor(rng.normal(contacts))\n",
    "        if contacts < 0:\n",
    "            contacts = 0\n",
    "        for i in range(0, contacts):\n",
    "            nc = connect(Int1, Int2, target_neurite=neurite)\n",
    "            netcons.append(nc)\n",
    "\n",
    "\n",
    "# Connect Int2 to Int1\n",
    "if rng.random() < conn_prob_matrix[1, 1]:\n",
    "    for i, neurite in enumerate([\"soma\", \"dend\"]):\n",
    "        contacts = expected_contacts[0, 0, i]\n",
    "        if contacts > 0:\n",
    "            contacts = m.floor(rng.normal(contacts))\n",
    "        if contacts < 0:\n",
    "            contacts = 0\n",
    "        for i in range(0, contacts):\n",
    "            nc = connect(Int2, Int1, target_neurite=neurite)\n",
    "            netcons.append(nc)"
   ]
  },
  {
   "cell_type": "markdown",
   "metadata": {},
   "source": [
    "## Step7: Convergence Matrix: how many contacts a certain cell makes with the others"
   ]
  },
  {
   "cell_type": "markdown",
   "metadata": {},
   "source": [
    "Je crois la je fais une divergence matrix et pas une convergence matrix... Et aussi faut commenter le stimuli après et j'ai pas fait, d'ailleurs ils précisent pas si on doit mettre le courant dans quelle cell donc bon relou"
   ]
  },
  {
   "cell_type": "code",
   "execution_count": 54,
   "metadata": {},
   "outputs": [
    {
     "data": {
      "text/plain": [
       "<matplotlib.colorbar.Colorbar at 0x7fd28998b130>"
      ]
     },
     "execution_count": 54,
     "metadata": {},
     "output_type": "execute_result"
    },
    {
     "data": {
      "image/png": "[encoded data removed]",
      "text/plain": [
       "<Figure size 432x288 with 2 Axes>"
      ]
     },
     "metadata": {
      "needs_background": "light"
     },
     "output_type": "display_data"
    }
   ],
   "source": [
    "contacts_matrix = np.zeros((5, 5))\n",
    "cellnames = [x.name for x in cells]\n",
    "\n",
    "# iterate over netcons and count\n",
    "for nc in netcons:\n",
    "    pre = nc.precell().name\n",
    "    pos = nc.postcell().name\n",
    "    ipre = cellnames.index(pre)\n",
    "    ipos = cellnames.index(pos)\n",
    "    contacts_matrix[ipre, ipos] += 1\n",
    "\n",
    "plt.imshow(contacts_matrix, cmap=\"YlGn\")\n",
    "plt.colorbar()"
   ]
  },
  {
   "cell_type": "markdown",
   "metadata": {},
   "source": [
    "<font size='3'>To test connectivity, let's stimulate one neuron and record another"
   ]
  },
  {
   "cell_type": "code",
   "execution_count": 55,
   "metadata": {},
   "outputs": [],
   "source": [
    "stim_cell = Pyr2\n",
    "stim_syn = h.ExpSyn(stim_cell.dend[20](0.5))\n",
    "stim = h.NetStim()  # Make a new stimulator\n",
    "ncstim = h.NetCon(stim, stim_syn)  # Connect stimulator to synapse"
   ]
  },
  {
   "cell_type": "markdown",
   "metadata": {},
   "source": [
    "<font size='3'>You can play with the parameters below and rerun to see the change in the voltage traces"
   ]
  },
  {
   "cell_type": "code",
   "execution_count": 56,
   "metadata": {},
   "outputs": [
    {
     "data": {
      "image/png": "[encoded data removed]",
      "text/plain": [
       "<Figure size 432x288 with 1 Axes>"
      ]
     },
     "metadata": {
      "needs_background": "light"
     },
     "output_type": "display_data"
    }
   ],
   "source": [
    "stim.number = 10  # Number of spikes (average)\n",
    "stim.start = 10  # First spike delay [ms]\n",
    "ncstim.delay = 1  # NetCon ms\n",
    "ncstim.weight[0] = 0.8  # NetCon weight\n",
    "\n",
    "recording_cell = Pyr1\n",
    "\n",
    "soma_v = h.Vector().record(recording_cell.soma[0](0.5)._ref_v)\n",
    "dend_v = h.Vector().record(recording_cell.dend[20](0.5)._ref_v)\n",
    "t = h.Vector().record(h._ref_t)\n",
    "\n",
    "h.finitialize(-65)\n",
    "h.continuerun(100)\n",
    "plt.plot(t, soma_v, label=\"soma(0.5)\")\n",
    "plt.plot(t, dend_v, label=\"dend(0.5)\")\n",
    "plt.legend()\n",
    "plt.show()"
   ]
  },
  {
   "cell_type": "markdown",
   "metadata": {},
   "source": [
    "# <font color='red'>Ex 3:</font> Real Connectivity Rules\n",
    "\n",
    "<font size='3'>\n",
    "    \n",
    "Read the articles uploaded with this homework (Markram_1997.pdf and Gupta_2000.pdf). \n",
    "\n",
    "Imagine that you have to build a network with your five cells (3 pyramidals and 2 GABAergic interneurons) from the rat somatosensory cortex. Extract from the papers the data that you would need to connect your cells (connectivity rules). \n",
    "Enumerate the data chosen to connect your cells. Make sure to read the papers thoroughly and extract all of the connectivity information.  \n",
    "    \n",
    "Using and modifying (if needed) the code from the tutorials, connect your five cells in a more biological way using the connectivity rules found in the papers. Visualize the results of the resulting connectivity.    \n",
    "    \n",
    "    \n",
    "<font size='3'><font color= 'red'>[2.5 pts]"
   ]
  },
  {
   "cell_type": "code",
   "execution_count": null,
   "metadata": {},
   "outputs": [],
   "source": []
  }
 ],
 "metadata": {
  "kernelspec": {
   "display_name": "Python 3 (ipykernel)",
   "language": "python",
   "name": "python3"
  },
  "language_info": {
   "codemirror_mode": {
    "name": "ipython",
    "version": 3
   },
   "file_extension": ".py",
   "mimetype": "text/x-python",
   "name": "python",
   "nbconvert_exporter": "python",
   "pygments_lexer": "ipython3",
   "version": "3.8.10"
  }
 },
 "nbformat": 4,
 "nbformat_minor": 4
}
